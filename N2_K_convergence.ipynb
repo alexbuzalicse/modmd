{
 "cells": [
  {
   "cell_type": "code",
   "execution_count": null,
   "metadata": {},
   "outputs": [],
   "source": [
    "# Imports\n",
    "from src import *\n",
    "import scipy.sparse.linalg as spsl\n",
    "import pickle\n",
    "import matplotlib.pyplot as plt\n",
    "import matplotlib"
   ]
  },
  {
   "cell_type": "code",
   "execution_count": null,
   "metadata": {},
   "outputs": [],
   "source": [
    "# Algorithm Parameters\n",
    "max_energy_level = 4\n",
    "kd_ratio = 2.5\n",
    "noise_threshold = 1e-4\n",
    "epsilon = 1e-5\n",
    "K_values = list(range(0,800,20))\n",
    "delta_t = 0.37\n",
    "num_trials = 20\n",
    "\n",
    "# Hamiltonian Parameters\n",
    "molecule = 'N 0.000  0.000  -0.549; N 0.000  0.000  0.549;'\n",
    "basis_set = 'sto-3g'\n",
    "mapper = 'parity'"
   ]
  },
  {
   "cell_type": "code",
   "execution_count": null,
   "metadata": {},
   "outputs": [],
   "source": [
    "# Generate Hamiltonian and get true eigenenergies\n",
    "hamiltonian = molecular_hamiltonian(molecule,basis_set,mapper,freeze_core=True)\n",
    "sparse_hamiltonian = hamiltonian.to_matrix(sparse = True)\n",
    "num_qubits = hamiltonian.num_qubits\n",
    "\n",
    "v, w = spsl.eigsh(sparse_hamiltonian,k=20,which = 'SA')\n",
    "true_eigenenergies = np.unique(np.round(v,8))[:max_energy_level+1]"
   ]
  },
  {
   "cell_type": "code",
   "execution_count": null,
   "metadata": {},
   "outputs": [],
   "source": [
    "# Construct reference state\n",
    "indices = np.argsort(sparse_hamiltonian.diagonal())\n",
    "reference_state = bitstring_superposition_state(num_qubits,[bin(indices[i])[2:] for i in [0,1,2,2,3,4,5]])\n",
    "\n",
    "# Get evolved reference states\n",
    "max_K = K_values[-1]\n",
    "max_d = int(max_K/kd_ratio)\n",
    "time_evolution_operator = -1j*sparse_hamiltonian*delta_t\n",
    "evolved_reference_states = spsl.expm_multiply(time_evolution_operator,reference_state,start=0,stop=max_d+max_K+1,num = max_d+max_K+2)"
   ]
  },
  {
   "cell_type": "code",
   "execution_count": null,
   "metadata": {},
   "outputs": [],
   "source": [
    "# Get MODMD observables\n",
    "pauli_strings, coeffs = zip(*sorted(hamiltonian.to_list(), key = lambda x: np.abs(np.real(x[1])), reverse = True))\n",
    "\n",
    "modmd_observables = ([SparsePauliOp('I' * num_qubits).to_matrix(sparse=True)] + \n",
    "                     [SparsePauliOp(p).to_matrix(sparse=True) for p in pauli_strings[30:36]])"
   ]
  },
  {
   "cell_type": "code",
   "execution_count": null,
   "metadata": {},
   "outputs": [],
   "source": [
    "# ODMD Results\n",
    "odmd_observables = [SparsePauliOp('I' * num_qubits).to_matrix(sparse=True)]\n",
    "odmd_results = []\n",
    "\n",
    "X_elements = generate_X_elements(odmd_observables,max_d,max_K,reference_state,evolved_reference_states)\n",
    "\n",
    "for trial in range(num_trials):\n",
    "    \n",
    "    gaussian_noise = np.random.normal(0,epsilon,size=X_elements.shape) + 1j * np.random.normal(0,epsilon,size=X_elements.shape)\n",
    "    noisy_X_elements = X_elements + gaussian_noise\n",
    "\n",
    "    odmd_results.append(varying_K_results(len(odmd_observables),noise_threshold,noisy_X_elements,delta_t,K_values,kd_ratio,max_energy_level))"
   ]
  },
  {
   "cell_type": "code",
   "execution_count": null,
   "metadata": {},
   "outputs": [],
   "source": [
    "# MODMD Results\n",
    "modmd_results = []\n",
    "\n",
    "X_elements = generate_X_elements(modmd_observables,max_d,max_K,reference_state,evolved_reference_states)\n",
    "\n",
    "for trial in range(num_trials):\n",
    "    \n",
    "    gaussian_noise = np.random.normal(0,epsilon,size=X_elements.shape) + 1j * np.random.normal(0,epsilon,size=X_elements.shape)\n",
    "    noisy_X_elements = X_elements + gaussian_noise\n",
    "\n",
    "    modmd_results.append(varying_K_results(len(modmd_observables),noise_threshold,noisy_X_elements,delta_t,K_values,kd_ratio,max_energy_level))"
   ]
  },
  {
   "cell_type": "code",
   "execution_count": null,
   "metadata": {},
   "outputs": [],
   "source": [
    "# Compute errors\n",
    "absolute_odmd_errors = np.array([np.abs(odmd_results[i] - true_eigenenergies) for i in range(num_trials)])\n",
    "absolute_modmd_errors = np.array([np.abs(modmd_results[i] - true_eigenenergies) for i in range(num_trials)])"
   ]
  },
  {
   "cell_type": "code",
   "execution_count": null,
   "metadata": {},
   "outputs": [],
   "source": [
    "# Plotting\n",
    "energy_levels = [0,1,2,3]\n",
    "algorithm = 'MODMD'\n",
    "colors = ['#EC8F5E', '#F3B664', '#F1EB90', '#9FBB73']\n",
    "labels = [r'$|\\delta E_0|$',r'$|\\delta E_1|$',r'$|\\delta E_2|$',r'$|\\delta E_3|$']\n",
    "\n",
    "for i, energy_level in enumerate(energy_levels):\n",
    "\n",
    "    if algorithm == 'ODMD':\n",
    "        odmd_average = np.average(absolute_odmd_errors,0)[:,energy_level]\n",
    "        odmd_std = np.std(absolute_odmd_errors,0)[:,energy_level]\n",
    "        plt.semilogy(K_values, odmd_average, '--',color = colors[i],label = labels[i])\n",
    "        plt.fill_between(K_values,odmd_average,odmd_average + odmd_std,color = colors[i],alpha = .3)\n",
    "        \n",
    "    elif algorithm == 'MODMD':\n",
    "        modmd_average = np.average(absolute_modmd_errors,0)[:,energy_level]\n",
    "        modmd_std = np.std(absolute_modmd_errors,0)[:,energy_level]\n",
    "        plt.semilogy(K_values,modmd_average,color = colors[i],label = labels[i])\n",
    "        plt.fill_between(K_values,modmd_average,modmd_average + modmd_std,color = colors[i],alpha = .3)\n",
    "\n",
    "plt.axhline(epsilon, color = '#95ab9b', linestyle = '--', label = r'$\\epsilon_\\text{noise}$')\n",
    "matplotlib.rcParams.update({'font.size': 14})\n",
    "plt.xlabel(r'K ($\\propto \\text{Simulation Time})$')\n",
    "plt.ylabel(r'Absolute Error')\n",
    "plt.legend(fontsize=14)"
   ]
  }
 ],
 "metadata": {
  "kernelspec": {
   "display_name": "modmd_env",
   "language": "python",
   "name": "python3"
  },
  "language_info": {
   "codemirror_mode": {
    "name": "ipython",
    "version": 3
   },
   "file_extension": ".py",
   "mimetype": "text/x-python",
   "name": "python",
   "nbconvert_exporter": "python",
   "pygments_lexer": "ipython3",
   "version": "3.12.5"
  }
 },
 "nbformat": 4,
 "nbformat_minor": 2
}
