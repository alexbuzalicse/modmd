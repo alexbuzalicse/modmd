{
 "cells": [
  {
   "cell_type": "code",
   "execution_count": null,
   "id": "initial_id",
   "metadata": {
    "ExecuteTime": {
     "end_time": "2024-09-24T19:16:37.496609Z",
     "start_time": "2024-09-24T19:16:37.379732Z"
    }
   },
   "outputs": [],
   "source": [
    "# Imports\n",
    "import sys\n",
    "import os\n",
    "project_root = os.path.abspath(os.path.join(os.getcwd(), '..'))\n",
    "if project_root not in sys.path: sys.path.insert(0, project_root)\n",
    "\n",
    "from src import *\n",
    "import scipy.sparse.linalg as spsl\n",
    "import matplotlib.pyplot as plt\n",
    "import matplotlib"
   ]
  },
  {
   "cell_type": "code",
   "execution_count": null,
   "id": "fb583e2f56d6d574",
   "metadata": {
    "ExecuteTime": {
     "end_time": "2024-09-24T19:16:37.583923Z",
     "start_time": "2024-09-24T19:16:37.579683Z"
    }
   },
   "outputs": [],
   "source": [
    "# Hamiltonian Parameters\n",
    "num_qubits = 15\n",
    "J = 1\n",
    "h = 1\n",
    "\n",
    "# Algorithm Parameters\n",
    "max_energy_level = 3\n",
    "kd_ratio = 2.5\n",
    "noise_threshold = 1e-2\n",
    "epsilon = 1e-3\n",
    "K_values = list(range(0,500,5))\n",
    "delta_t = 0.09\n",
    "num_modmd_observables = 7\n",
    "num_trials = 20"
   ]
  },
  {
   "cell_type": "code",
   "execution_count": null,
   "id": "21cca6e4d1d35c7f",
   "metadata": {
    "ExecuteTime": {
     "end_time": "2024-09-24T19:00:17.044807Z",
     "start_time": "2024-09-24T19:00:17.032436Z"
    }
   },
   "outputs": [],
   "source": [
    "# Generate Hamiltonian and get true eigenenergies\n",
    "sparse_hamiltonian = heisenberg_hamiltonian(num_qubits,J,h).to_matrix(sparse=True)\n",
    "\n",
    "v, w = spsl.eigsh(sparse_hamiltonian,k=20,which = 'SA')\n",
    "true_eigenenergies = np.unique(np.round(v,8))[:max_energy_level+1]"
   ]
  },
  {
   "cell_type": "code",
   "execution_count": null,
   "id": "a7c3a04fffdc4e4c",
   "metadata": {},
   "outputs": [],
   "source": [
    "# Construct reference state\n",
    "reference_state = bitstring_superposition_state(num_qubits, ['000000000000000','100000000000000','110000000000000','111000000000000'])\n",
    "Z_tot = total_spin_operator(num_qubits).to_matrix(sparse=True)\n",
    "reference_state_total_spin = np.real(reference_state@Z_tot@reference_state)\n",
    "\n",
    "# Get evolved reference states\n",
    "max_K = K_values[-1]\n",
    "max_d = int(max_K/kd_ratio)\n",
    "time_evolution_operator = -1j*sparse_hamiltonian*delta_t\n",
    "evolved_reference_states = spsl.expm_multiply(time_evolution_operator,reference_state,start=0,stop=max_d+max_K+1,num = max_d+max_K+2)"
   ]
  },
  {
   "cell_type": "code",
   "execution_count": null,
   "id": "2360f4df52adc0b2",
   "metadata": {},
   "outputs": [],
   "source": [
    "# # ODMD Results\n",
    "odmd_observables = [SparsePauliOp('I' * num_qubits).to_matrix(sparse=True)]\n",
    "odmd_results = []\n",
    "\n",
    "X_elements = generate_X_elements(odmd_observables,max_d,max_K,reference_state,evolved_reference_states)\n",
    "\n",
    "for trial in range(num_trials):\n",
    "    \n",
    "    gaussian_noise = np.random.normal(0,epsilon,size=X_elements.shape) + 1j * np.random.normal(0,epsilon,size=X_elements.shape)\n",
    "    noisy_X_elements = X_elements + gaussian_noise\n",
    "\n",
    "    odmd_results.append(varying_K_results(len(odmd_observables),noise_threshold,noisy_X_elements,delta_t,K_values,kd_ratio,max_energy_level))"
   ]
  },
  {
   "cell_type": "code",
   "execution_count": null,
   "id": "e695c973",
   "metadata": {},
   "outputs": [],
   "source": [
    "# MODMD Results\n",
    "modmd_results = []\n",
    "\n",
    "for trial in range(num_trials):\n",
    "    \n",
    "    modmd_observables = odmd_observables + random_one_local_paulis(num_qubits,num_modmd_observables-1)\n",
    "\n",
    "    X_elements = generate_X_elements(modmd_observables,max_d,max_K,reference_state,evolved_reference_states)\n",
    "    gaussian_noise = np.random.normal(0,epsilon,size=X_elements.shape) + 1j * np.random.normal(0,epsilon,size=X_elements.shape)\n",
    "    noisy_X_elements = X_elements + gaussian_noise\n",
    "\n",
    "    modmd_results.append(varying_K_results(len(modmd_observables),noise_threshold,noisy_X_elements,delta_t,K_values,kd_ratio,max_energy_level))"
   ]
  },
  {
   "cell_type": "code",
   "execution_count": null,
   "id": "21227535",
   "metadata": {},
   "outputs": [],
   "source": [
    "# Compute errors\n",
    "absolute_odmd_errors = np.array([np.abs(odmd_results[i] - true_eigenenergies) for i in range(num_trials)])\n",
    "absolute_modmd_errors = np.array([np.abs(modmd_results[i] - true_eigenenergies) for i in range(num_trials)])"
   ]
  },
  {
   "cell_type": "code",
   "execution_count": null,
   "id": "17816b99",
   "metadata": {},
   "outputs": [],
   "source": [
    "# Plotting\n",
    "algorithm = 'ODMD'\n",
    "colors = get_color_set('Heisenberg')\n",
    "labels = [r'$|\\delta E_0|$',r'$|\\delta E_1|$',r'$|\\delta E_2|$',r'$|\\delta E_3|$']\n",
    "matplotlib.rcParams.update({'font.size': 14})\n",
    "\n",
    "for energy_level in range(max_energy_level+1):\n",
    "\n",
    "    if algorithm == 'ODMD':\n",
    "        odmd_average = np.average(absolute_odmd_errors,0)[:,energy_level]\n",
    "        odmd_std = np.std(absolute_odmd_errors,0)[:,energy_level]\n",
    "        plt.semilogy(K_values, odmd_average,'--',color = colors[energy_level],label = labels[energy_level])\n",
    "        plt.fill_between(K_values,odmd_average,odmd_average + odmd_std,color = colors[energy_level],alpha = .3)\n",
    "        \n",
    "    elif algorithm == 'MODMD':\n",
    "        modmd_average = np.average(absolute_modmd_errors,0)[:,energy_level]\n",
    "        modmd_std = np.std(absolute_modmd_errors,0)[:,energy_level]\n",
    "        plt.semilogy(K_values,modmd_average,color = colors[energy_level],label = labels[energy_level])\n",
    "        plt.fill_between(K_values,modmd_average,modmd_average + modmd_std,color = colors[energy_level],alpha = .3)\n",
    "\n",
    "plt.axhline(epsilon, color = '#95ab9b', linestyle = '--', label = r'$\\epsilon_\\text{noise}$')\n",
    "plt.xlabel(r'K ($\\propto \\text{Simulation Time})$')\n",
    "plt.ylabel(r'Absolute Error')\n",
    "plt.legend(fontsize=14, framealpha = 0)"
   ]
  }
 ],
 "metadata": {
  "kernelspec": {
   "display_name": "modmd_env",
   "language": "python",
   "name": "python3"
  },
  "language_info": {
   "codemirror_mode": {
    "name": "ipython",
    "version": 3
   },
   "file_extension": ".py",
   "mimetype": "text/x-python",
   "name": "python",
   "nbconvert_exporter": "python",
   "pygments_lexer": "ipython3",
   "version": "3.12.5"
  },
  "varInspector": {
   "cols": {
    "lenName": 16,
    "lenType": 16,
    "lenVar": 40
   },
   "kernels_config": {
    "python": {
     "delete_cmd_postfix": "",
     "delete_cmd_prefix": "del ",
     "library": "var_list.py",
     "varRefreshCmd": "print(var_dic_list())"
    },
    "r": {
     "delete_cmd_postfix": ") ",
     "delete_cmd_prefix": "rm(",
     "library": "var_list.r",
     "varRefreshCmd": "cat(var_dic_list()) "
    }
   },
   "types_to_exclude": [
    "module",
    "function",
    "builtin_function_or_method",
    "instance",
    "_Feature"
   ],
   "window_display": false
  }
 },
 "nbformat": 4,
 "nbformat_minor": 5
}
