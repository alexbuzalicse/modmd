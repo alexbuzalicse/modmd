{
 "cells": [
  {
   "cell_type": "code",
   "execution_count": null,
   "metadata": {},
   "outputs": [],
   "source": [
    "# Imports\n",
    "from src import *\n",
    "import scipy.sparse.linalg as spsl\n",
    "import pickle\n",
    "import matplotlib.pyplot as plt\n",
    "import matplotlib"
   ]
  },
  {
   "cell_type": "code",
   "execution_count": null,
   "metadata": {},
   "outputs": [],
   "source": [
    "# Algorithm parameters\n",
    "num_qubits = 10\n",
    "max_energy_level = 4\n",
    "kd_ratio = 2.5\n",
    "noise_thresholds = 1/(10**np.arange(1,8,.5))\n",
    "epsilon_values = np.array([delta/10 for delta in noise_thresholds])\n",
    "K = 300\n",
    "delta_t = 0.33\n",
    "num_trials = 20"
   ]
  },
  {
   "cell_type": "code",
   "execution_count": null,
   "metadata": {},
   "outputs": [],
   "source": [
    "# Load Hamiltonian, get true eigenergies\n",
    "with open('Data/Hamiltonians/LiH_equilibrium_hamiltonian.pkl', 'rb') as f:\n",
    "    sparse_lih_hamiltonian = pickle.load(f)\n",
    "eigenvalues = np.sort(spsl.eigsh(sparse_lih_hamiltonian,k=20,which = 'SA')[0])\n",
    "true_eigenenergies = eigenvalues[[0,3,6,11,17]]"
   ]
  },
  {
   "cell_type": "code",
   "execution_count": null,
   "metadata": {},
   "outputs": [],
   "source": [
    "# Construct reference state\n",
    "reference_state = bitstring_superposition_state(num_qubits, ['0000100001', '0000000011', '0001000001','0010100000'])\n",
    "\n",
    "# Get evolved reference states\n",
    "d = int((K)/kd_ratio)\n",
    "time_evolution_operator = -1j*sparse_lih_hamiltonian*delta_t\n",
    "evolved_reference_states = spsl.expm_multiply(time_evolution_operator,reference_state,start=0,stop=d+K+1,num = d+K+2)"
   ]
  },
  {
   "cell_type": "code",
   "execution_count": null,
   "metadata": {},
   "outputs": [],
   "source": [
    "# Get MODMD observables\n",
    "with open('Data/Hamiltonians/LiH_pauli_representation.pkl', 'rb') as f:\n",
    "    lih_pauli_coefficients, lih_pauli_strings = pickle.load(f)\n",
    "\n",
    "sorted_pauli_observables = np.array(lih_pauli_strings)[np.argsort(np.abs(lih_pauli_coefficients))[::-1]]\n",
    "modmd_observables = [SparsePauliOp(p).to_matrix(sparse=True) for p in sorted_pauli_observables[75:81]]"
   ]
  },
  {
   "cell_type": "code",
   "execution_count": null,
   "metadata": {},
   "outputs": [],
   "source": [
    "# ODMD Results\n",
    "odmd_results = {epsilon:[] for epsilon in epsilon_values}\n",
    "odmd_observables = [SparsePauliOp('I' * num_qubits).to_matrix(sparse=True)]\n",
    "\n",
    "X_elements = generate_X_elements(odmd_observables,d,K,reference_state,evolved_reference_states)\n",
    "\n",
    "for i,epsilon in enumerate(epsilon_values):\n",
    "    \n",
    "    for trial in range(num_trials):\n",
    "\n",
    "        gaussian_noise = np.random.normal(0,epsilon,size=X_elements.shape) + 1j * np.random.normal(0,epsilon,size=X_elements.shape)\n",
    "        noisy_X_elements = X_elements + gaussian_noise\n",
    "\n",
    "        odmd_results[epsilon].append(one_shot_modmd(len(odmd_observables),noise_thresholds[i],noisy_X_elements,delta_t,K,kd_ratio,max_energy_level))"
   ]
  },
  {
   "cell_type": "code",
   "execution_count": null,
   "metadata": {},
   "outputs": [],
   "source": [
    "# MODMD Results\n",
    "modmd_results = {epsilon:[] for epsilon in epsilon_values}\n",
    "X_elements = generate_X_elements(modmd_observables,d,K,reference_state,evolved_reference_states)\n",
    "\n",
    "for i,epsilon in enumerate(epsilon_values):\n",
    "    \n",
    "    for trial in range(num_trials):\n",
    "\n",
    "        gaussian_noise = np.random.normal(0,epsilon,size=X_elements.shape) + 1j * np.random.normal(0,epsilon,size=X_elements.shape)\n",
    "        noisy_X_elements = X_elements + gaussian_noise\n",
    "\n",
    "        modmd_results[epsilon].append(one_shot_modmd(len(modmd_observables),noise_thresholds[i],noisy_X_elements,delta_t,K,kd_ratio,max_energy_level))"
   ]
  },
  {
   "cell_type": "code",
   "execution_count": null,
   "metadata": {},
   "outputs": [],
   "source": [
    "# Compute errors\n",
    "absolute_odmd_errors = {epsilon: np.array([np.abs(odmd_results[epsilon][i] - true_eigenenergies) \n",
    "for i in range(num_trials)]) for epsilon in epsilon_values}\n",
    "absolute_modmd_errors = {epsilon: np.array([np.abs(modmd_results[epsilon][i] - true_eigenenergies) \n",
    "for i in range(num_trials)]) for epsilon in epsilon_values}\n",
    "\n",
    "odmd_errors_average = np.array([np.average(absolute_odmd_errors[epsilon],0) for epsilon in epsilon_values])\n",
    "modmd_errors_average = np.array([np.average(absolute_modmd_errors[epsilon],0) for epsilon in epsilon_values])"
   ]
  },
  {
   "cell_type": "code",
   "execution_count": null,
   "metadata": {},
   "outputs": [],
   "source": [
    "# Plotting\n",
    "energy_levels = [0,1,2,3]\n",
    "colors = ['#fcc5c0','#f768a1','#7a0177', '#240046']\n",
    "labels = [r'$|\\delta E_0|$',r'$|\\delta E_1|$',r'$|\\delta E_2|$',r'$|\\delta E_3|$']\n",
    "\n",
    "for i, energy_level in enumerate(energy_levels):\n",
    "    plt.loglog(1/epsilon_values,odmd_errors_average[:,energy_level], '--x', color = colors[i])\n",
    "    plt.loglog(1/epsilon_values,modmd_errors_average[:,energy_level], '-o', color = colors[i], label = labels[i])\n",
    "\n",
    "matplotlib.rcParams.update({'font.size': 14})\n",
    "plt.xlabel(r'1/$\\epsilon_\\text{noise}$')\n",
    "plt.ylabel('Absolute Error')\n",
    "plt.legend(framealpha = 0, fontsize = 14)"
   ]
  }
 ],
 "metadata": {
  "kernelspec": {
   "display_name": "modmd_env",
   "language": "python",
   "name": "python3"
  },
  "language_info": {
   "codemirror_mode": {
    "name": "ipython",
    "version": 3
   },
   "file_extension": ".py",
   "mimetype": "text/x-python",
   "name": "python",
   "nbconvert_exporter": "python",
   "pygments_lexer": "ipython3",
   "version": "3.12.5"
  }
 },
 "nbformat": 4,
 "nbformat_minor": 2
}
