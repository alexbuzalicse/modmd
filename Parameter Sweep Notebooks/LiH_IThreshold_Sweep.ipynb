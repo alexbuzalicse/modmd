{
 "cells": [
  {
   "cell_type": "code",
   "execution_count": null,
   "metadata": {},
   "outputs": [],
   "source": [
    "# Imports\n",
    "import sys\n",
    "import os\n",
    "project_root = os.path.abspath(os.path.join(os.getcwd(), '..'))\n",
    "if project_root not in sys.path: sys.path.insert(0, project_root)\n",
    "\n",
    "from src import *\n",
    "import scipy.sparse.linalg as spsl\n",
    "import matplotlib.pyplot as plt\n",
    "import matplotlib"
   ]
  },
  {
   "cell_type": "code",
   "execution_count": null,
   "metadata": {},
   "outputs": [],
   "source": [
    "# Algorithm Parameters\n",
    "max_energy_level = 4\n",
    "kd_ratio = 2.5\n",
    "noise_threshold_values = 1/(10**np.arange(0,5,.25))\n",
    "epsilon = 1e-3\n",
    "K = 500\n",
    "delta_t = 0.39\n",
    "num_trials = 20\n",
    "\n",
    "# Hamiltonian Parameters\n",
    "molecule = 'Li 0.0 0.0 0.0; H 0.0 0.0 1.595'\n",
    "basis_set = 'sto-3g'\n",
    "mapper = 'parity'"
   ]
  },
  {
   "cell_type": "code",
   "execution_count": null,
   "metadata": {},
   "outputs": [],
   "source": [
    "# Generate Hamiltonian and get true eigenenergies\n",
    "hamiltonian = molecular_hamiltonian(molecule,basis_set,mapper)\n",
    "sparse_hamiltonian = hamiltonian.to_matrix(sparse = True)\n",
    "num_qubits = hamiltonian.num_qubits\n",
    "\n",
    "v, w = spsl.eigsh(sparse_hamiltonian,k=20+1,which = 'SA')\n",
    "true_eigenenergies = np.unique(np.round(v,8))[:max_energy_level+1]"
   ]
  },
  {
   "cell_type": "code",
   "execution_count": null,
   "metadata": {},
   "outputs": [],
   "source": [
    "# Construct reference state\n",
    "indices = np.argsort(sparse_hamiltonian.diagonal())\n",
    "reference_state = bitstring_superposition_state(num_qubits,[bin(indices[i])[2:] for i in [0,1,1,2,3,4,5]])\n",
    "\n",
    "# Get evolved reference states\n",
    "max_K = K\n",
    "max_d = int(max_K/kd_ratio)\n",
    "time_evolution_operator = -1j*sparse_hamiltonian*delta_t\n",
    "evolved_reference_states = spsl.expm_multiply(time_evolution_operator,reference_state,start=0,stop=max_d+max_K+1,num = max_d+max_K+2)"
   ]
  },
  {
   "cell_type": "code",
   "execution_count": null,
   "metadata": {},
   "outputs": [],
   "source": [
    "# Get MODMD observables\n",
    "pauli_strings, coeffs = zip(*sorted(hamiltonian.to_list(), key = lambda x: np.abs(np.real(x[1])), reverse = True))\n",
    "\n",
    "modmd_observables = ([SparsePauliOp('I' * num_qubits).to_matrix(sparse=True)] + \n",
    "                     [SparsePauliOp(p).to_matrix(sparse=True) for p in pauli_strings[54:66]])"
   ]
  },
  {
   "cell_type": "code",
   "execution_count": null,
   "metadata": {},
   "outputs": [],
   "source": [
    "# MODMD Results\n",
    "modmd_results = []\n",
    "\n",
    "I_values = list(range(1,len(modmd_observables)+1))\n",
    "X_elements = generate_X_elements(modmd_observables,max_d,max_K,reference_state,evolved_reference_states)\n",
    "\n",
    "for noise_threshold in noise_threshold_values:\n",
    "\n",
    "    noise_threshold_results = []\n",
    "\n",
    "    for trial in range(num_trials):\n",
    "\n",
    "        gaussian_noise = np.random.normal(0,epsilon,X_elements.shape) + 1j * np.random.normal(0,epsilon,size=X_elements.shape)\n",
    "        noisy_X_elements = X_elements + gaussian_noise\n",
    "        \n",
    "        noise_threshold_results.append(varying_I_results(I_values,noise_threshold,noisy_X_elements,delta_t,K,kd_ratio,max_energy_level))\n",
    "  \n",
    "    modmd_results.append(noise_threshold_results) "
   ]
  },
  {
   "cell_type": "code",
   "execution_count": null,
   "metadata": {},
   "outputs": [],
   "source": [
    "# Compute errors\n",
    "absolute_modmd_errors = np.array([np.abs(np.array(modmd_results)[:,i,:,:] - true_eigenenergies) for i in range(num_trials)])"
   ]
  },
  {
   "cell_type": "code",
   "execution_count": null,
   "metadata": {},
   "outputs": [],
   "source": [
    "# Plotting\n",
    "fig, axes = plt.subplots(1,4, figsize = (12,10), constrained_layout=True,sharex=True)\n",
    "matplotlib.rcParams.update({'font.size': 14})\n",
    "extent = (I_values[0], I_values[-1], np.log10(noise_threshold_values[-1]), np.log10(noise_threshold_values[0]))\n",
    "\n",
    "for energy_level, ax in enumerate(axes.flat):\n",
    "\n",
    "    modmd_average = np.average(absolute_modmd_errors,0)[:,:,energy_level]\n",
    "    im = ax.imshow(np.log10(modmd_average), cmap = 'RdPu_r', extent=extent,vmin=-6.9,vmax=-.1)\n",
    "\n",
    "    ax.set_aspect(2.8)\n",
    "    ax.set_title(f'Absolute Error in $E_{energy_level}$')\n",
    "    if energy_level != 0:\n",
    "        ax.set_yticks([])\n",
    "    ax.axhline(np.log10(epsilon),color = '#95ab9b', linestyle = '--',)\n",
    "\n",
    "axes[0].set_ylabel(r'$\\log_{10}(\\tilde\\delta)$')\n",
    "fig.supxlabel('# of observables',y=.28)\n",
    "fig.subplots_adjust(right=0.8)\n",
    "cbar_ax = fig.add_axes([1.02, 0.345, 0.03, 0.31])\n",
    "fig.colorbar(im, cax=cbar_ax)"
   ]
  }
 ],
 "metadata": {
  "kernelspec": {
   "display_name": "modmd_env",
   "language": "python",
   "name": "python3"
  },
  "language_info": {
   "codemirror_mode": {
    "name": "ipython",
    "version": 3
   },
   "file_extension": ".py",
   "mimetype": "text/x-python",
   "name": "python",
   "nbconvert_exporter": "python",
   "pygments_lexer": "ipython3",
   "version": "3.12.5"
  }
 },
 "nbformat": 4,
 "nbformat_minor": 2
}
