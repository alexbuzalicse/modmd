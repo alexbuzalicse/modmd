{
 "cells": [
  {
   "cell_type": "code",
   "execution_count": 1,
   "metadata": {},
   "outputs": [],
   "source": [
    "from src import *\n",
    "import scipy.sparse.linalg as spsl\n",
    "import pickle\n",
    "import matplotlib.pyplot as plt\n",
    "import matplotlib"
   ]
  },
  {
   "cell_type": "code",
   "execution_count": 2,
   "metadata": {},
   "outputs": [],
   "source": [
    "# Hamiltonian Parameters\n",
    "num_qubits = 15\n",
    "h_values = np.round(np.arange(.5,1.2,.05),2)\n",
    "J = 1\n",
    "\n",
    "# Algorithm Parameters\n",
    "max_energy_level = 4\n",
    "kd_ratio = 2.5\n",
    "noise_threshold = 1e-2\n",
    "epsilon = 1e-3\n",
    "K = 500\n",
    "delta_t_values = dict(zip(h_values,np.arange(.064,.104,.002)))\n",
    "num_modmd_observables = 6\n",
    "num_trials = 5"
   ]
  },
  {
   "cell_type": "code",
   "execution_count": 3,
   "metadata": {},
   "outputs": [],
   "source": [
    "# Construct Hamiltonians, get true eigenergies\n",
    "xx_strings = ['I' * i + 'ZZ' + 'I'* (num_qubits - i - 2) for i in range(num_qubits-1)]\n",
    "z_strings = ['I' * i + 'X' + 'I'* (num_qubits - i - 1) for i in range(num_qubits)]\n",
    "\n",
    "sparse_tfim_hamiltonians = {}\n",
    "true_eigenenergies = {}\n",
    "\n",
    "for h in h_values:\n",
    "    sparse_tfim_hamiltonians[h] = SparsePauliOp.from_list([(s,-J) for s in xx_strings] + [(s,-h) for s in z_strings]).to_matrix(sparse=True)\n",
    "    true_eigenenergies[h] = sorted(spsl.eigsh(sparse_tfim_hamiltonians[h],k=max_energy_level+1,which = 'SA')[0])"
   ]
  },
  {
   "cell_type": "code",
   "execution_count": 4,
   "metadata": {},
   "outputs": [],
   "source": [
    "# Construct reference states\n",
    "reference_states = {}\n",
    "for h in h_values:\n",
    "    indices = np.argsort(sparse_tfim_hamiltonians[h].diagonal())\n",
    "    reference_states[h] = bitstring_superposition_state(num_qubits,[bin(indices[i])[2:] for i in range(6)])\n",
    "\n",
    "# Get evolved reference states\n",
    "d = int(K/kd_ratio)\n",
    "evolved_reference_states = {}\n",
    "\n",
    "for h in h_values:\n",
    "    time_evolution_operator = -1j*sparse_tfim_hamiltonians[h]*delta_t_values[h]\n",
    "    evolved_reference_states[h] = spsl.expm_multiply(time_evolution_operator,reference_states[h],start=0,stop=d+K+1,num = d+K+2)"
   ]
  },
  {
   "cell_type": "code",
   "execution_count": 5,
   "metadata": {},
   "outputs": [],
   "source": [
    "# Load/generate observable set FIX THIS\n",
    "try: \n",
    "    with open(f'Data/Observable Sets/one_local_paulis_{num_qubits}_qubits.pkl', 'rb') as f:\n",
    "        modmd_observable_set = pickle.load(f)\n",
    "\n",
    "except:\n",
    "    modmd_observable_set = all_one_local_paulis(num_qubits)\n",
    "    with open(f'Data/Observable Sets/one_local_paulis_{num_qubits}_qubits.pkl', 'wb') as f:\n",
    "        pickle.dump(modmd_observable_set, f)"
   ]
  },
  {
   "cell_type": "code",
   "execution_count": 6,
   "metadata": {},
   "outputs": [],
   "source": [
    "# ODMD Results\n",
    "observables = [SparsePauliOp('I' * num_qubits).to_matrix(sparse=True)]\n",
    "odmd_results = {h:[] for h in h_values}\n",
    "\n",
    "for h in h_values:\n",
    "\n",
    "    X_elements = generate_X_elements(observables,d,K,reference_states[h],evolved_reference_states[h])\n",
    "\n",
    "    for trial in range(num_trials):\n",
    "\n",
    "        gaussian_noise = np.random.normal(0,epsilon,size=X_elements.shape) + 1j * np.random.normal(0,epsilon,size=X_elements.shape)\n",
    "        noisy_X_elements = X_elements + gaussian_noise\n",
    "        \n",
    "        odmd_results[h].append(one_shot_modmd(len(observables),noise_threshold,X_elements,delta_t_values[h],K,kd_ratio,max_energy_level))"
   ]
  },
  {
   "cell_type": "code",
   "execution_count": 7,
   "metadata": {},
   "outputs": [
    {
     "name": "stdout",
     "output_type": "stream",
     "text": [
      "H: 0.5, Trial: 1\n",
      "H: 0.5, Trial: 2\n",
      "H: 0.5, Trial: 3\n",
      "H: 0.5, Trial: 4\n",
      "H: 0.5, Trial: 5\n",
      "H: 0.55, Trial: 1\n",
      "H: 0.55, Trial: 2\n",
      "H: 0.55, Trial: 3\n",
      "H: 0.55, Trial: 4\n",
      "H: 0.55, Trial: 5\n",
      "H: 0.6, Trial: 1\n",
      "H: 0.6, Trial: 2\n",
      "H: 0.6, Trial: 3\n",
      "H: 0.6, Trial: 4\n",
      "H: 0.6, Trial: 5\n",
      "H: 0.65, Trial: 1\n",
      "H: 0.65, Trial: 2\n",
      "H: 0.65, Trial: 3\n",
      "H: 0.65, Trial: 4\n",
      "H: 0.65, Trial: 5\n",
      "H: 0.7, Trial: 1\n",
      "H: 0.7, Trial: 2\n",
      "H: 0.7, Trial: 3\n",
      "H: 0.7, Trial: 4\n",
      "H: 0.7, Trial: 5\n",
      "H: 0.75, Trial: 1\n",
      "H: 0.75, Trial: 2\n",
      "H: 0.75, Trial: 3\n",
      "H: 0.75, Trial: 4\n",
      "H: 0.75, Trial: 5\n",
      "H: 0.8, Trial: 1\n",
      "H: 0.8, Trial: 2\n",
      "H: 0.8, Trial: 3\n",
      "H: 0.8, Trial: 4\n",
      "H: 0.8, Trial: 5\n",
      "H: 0.85, Trial: 1\n",
      "H: 0.85, Trial: 2\n",
      "H: 0.85, Trial: 3\n",
      "H: 0.85, Trial: 4\n",
      "H: 0.85, Trial: 5\n",
      "H: 0.9, Trial: 1\n",
      "H: 0.9, Trial: 2\n",
      "H: 0.9, Trial: 3\n",
      "H: 0.9, Trial: 4\n",
      "H: 0.9, Trial: 5\n",
      "H: 0.95, Trial: 1\n",
      "H: 0.95, Trial: 2\n",
      "H: 0.95, Trial: 3\n",
      "H: 0.95, Trial: 4\n",
      "H: 0.95, Trial: 5\n",
      "H: 1.0, Trial: 1\n",
      "H: 1.0, Trial: 2\n",
      "H: 1.0, Trial: 3\n",
      "H: 1.0, Trial: 4\n",
      "H: 1.0, Trial: 5\n",
      "H: 1.05, Trial: 1\n",
      "H: 1.05, Trial: 2\n",
      "H: 1.05, Trial: 3\n",
      "H: 1.05, Trial: 4\n",
      "H: 1.05, Trial: 5\n",
      "H: 1.1, Trial: 1\n",
      "H: 1.1, Trial: 2\n",
      "H: 1.1, Trial: 3\n",
      "H: 1.1, Trial: 4\n",
      "H: 1.1, Trial: 5\n",
      "H: 1.15, Trial: 1\n",
      "H: 1.15, Trial: 2\n",
      "H: 1.15, Trial: 3\n",
      "H: 1.15, Trial: 4\n",
      "H: 1.15, Trial: 5\n"
     ]
    }
   ],
   "source": [
    "# MODMD Results\n",
    "modmd_results = {h:[] for h in h_values}\n",
    "\n",
    "for h in h_values:\n",
    "    for trial in range(num_trials):\n",
    "        print(f'H: {h}, Trial: {trial+1}')\n",
    "\n",
    "        observables = np.random.choice(modmd_observable_set,num_modmd_observables,replace=False)\n",
    "        X_elements = generate_X_elements(observables,d,K,reference_states[h],evolved_reference_states[h])\n",
    "        \n",
    "        gaussian_noise = np.random.normal(0,epsilon,size=X_elements.shape) + 1j * np.random.normal(0,epsilon,size=X_elements.shape)\n",
    "        noisy_X_elements = X_elements + gaussian_noise\n",
    "        \n",
    "        modmd_results[h].append(one_shot_modmd(len(observables),noise_threshold,X_elements,delta_t_values[h],K,kd_ratio,max_energy_level))"
   ]
  },
  {
   "cell_type": "code",
   "execution_count": 8,
   "metadata": {},
   "outputs": [],
   "source": [
    "# Compute errors\n",
    "absolute_odmd_errors = {h: np.array([np.abs(odmd_results[h][i] - true_eigenenergies[h]) for i in range(num_trials)]) for h in h_values}\n",
    "absolute_modmd_errors = {h: np.array([np.abs(modmd_results[h][i] - true_eigenenergies[h]) for i in range(num_trials)]) for h in h_values}\n",
    "\n",
    "odmd_e1_errors_average = np.array([np.average(absolute_odmd_errors[h],0)[1] for h in h_values])\n",
    "modmd_e1_errors_average = np.array([np.average(absolute_modmd_errors[h],0)[1] for h in h_values])\n",
    "\n",
    "odmd_e1_errors_std = np.array([np.std(absolute_odmd_errors[h],0)[1] for h in h_values])\n",
    "modmd_e1_errors_std = np.array([np.std(absolute_modmd_errors[h],0)[1] for h in h_values])"
   ]
  },
  {
   "cell_type": "code",
   "execution_count": 9,
   "metadata": {},
   "outputs": [
    {
     "data": {
      "text/plain": [
       "<matplotlib.legend.Legend at 0x131c40ef0>"
      ]
     },
     "execution_count": 9,
     "metadata": {},
     "output_type": "execute_result"
    },
    {
     "data": {
      "image/png": "[encoded data removed]",
      "text/plain": [
       "<Figure size 640x480 with 1 Axes>"
      ]
     },
     "metadata": {},
     "output_type": "display_data"
    }
   ],
   "source": [
    "# Plotting\n",
    "gaps = [true_eigenenergies[h][1] - true_eigenenergies[h][0] for h in h_values]\n",
    "\n",
    "plt.loglog(gaps,odmd_e1_errors_average, '--x', label = 'ODMD', color = '#85d69c')\n",
    "plt.loglog(gaps,modmd_e1_errors_average, '-o', label = 'MODMD', color = '#85d69c')\n",
    "\n",
    "plt.fill_between(gaps,odmd_e1_errors_average,odmd_e1_errors_average + odmd_e1_errors_std,color = '#85d69c',alpha = .3)\n",
    "plt.fill_between(gaps,modmd_e1_errors_average,modmd_e1_errors_average + modmd_e1_errors_std,color = '#85d69c',alpha = .3)\n",
    "\n",
    "matplotlib.rcParams.update({'font.size': 14})\n",
    "plt.axvline(epsilon, linestyle='--',color = 'grey', label = r'$\\epsilon_\\text{noise}$')\n",
    "plt.xlabel('$E_1-E_0$')\n",
    "plt.ylabel('Absolute Error in $E_1$')\n",
    "plt.legend(framealpha=0,fontsize=14,loc='lower left')"
   ]
  },
  {
   "cell_type": "code",
   "execution_count": null,
   "metadata": {},
   "outputs": [],
   "source": []
  }
 ],
 "metadata": {
  "kernelspec": {
   "display_name": "modmd_env",
   "language": "python",
   "name": "python3"
  },
  "language_info": {
   "codemirror_mode": {
    "name": "ipython",
    "version": 3
   },
   "file_extension": ".py",
   "mimetype": "text/x-python",
   "name": "python",
   "nbconvert_exporter": "python",
   "pygments_lexer": "ipython3",
   "version": "3.12.5"
  }
 },
 "nbformat": 4,
 "nbformat_minor": 2
}
