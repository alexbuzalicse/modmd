{
 "cells": [
  {
   "cell_type": "code",
   "execution_count": null,
   "metadata": {},
   "outputs": [],
   "source": [
    "# Imports\n",
    "from src import *\n",
    "import pickle\n",
    "from itertools import product"
   ]
  },
  {
   "cell_type": "code",
   "execution_count": null,
   "metadata": {},
   "outputs": [],
   "source": [
    "# Load Hamiltonian, get number of qubits\n",
    "with open('Data/Hamiltonians/LiH_equilibrium_hamiltonian.pkl', 'rb') as f:\n",
    "    sparse_lih_hamiltonian = pickle.load(f)\n",
    "\n",
    "num_qubits = int(np.log2(sparse_lih_hamiltonian.shape[0]))"
   ]
  },
  {
   "cell_type": "code",
   "execution_count": null,
   "metadata": {},
   "outputs": [],
   "source": [
    "# Generate all 4^(num_qubits) Pauli matrices\n",
    "pauli_tuples = list(product(['I','X','Y','Z'], repeat = 10))\n",
    "pauli_strings = [''.join(l) for l in pauli_tuples]\n",
    "sparse_pauli_matrices = [SparsePauliOp(p).to_matrix(sparse=True) for p in pauli_strings]"
   ]
  },
  {
   "cell_type": "code",
   "execution_count": null,
   "metadata": {},
   "outputs": [],
   "source": [
    "# Calculate coefficients via Tr(HP)/2^N for all paulis P\n",
    "coefficients = []\n",
    "nonzero_pauli_strings = []\n",
    "for i in range(len(sparse_pauli_matrices)):\n",
    "\n",
    "    c = trace_product(sparse_lih_hamiltonian,sparse_pauli_matrices[i])/(2**num_qubits)\n",
    "    c = np.round(np.real(c),12)\n",
    "\n",
    "    if c != 0:\n",
    "        coefficients.append(c)\n",
    "        nonzero_pauli_strings.append(pauli_strings[i])"
   ]
  },
  {
   "cell_type": "code",
   "execution_count": null,
   "metadata": {},
   "outputs": [],
   "source": [
    "# Save data\n",
    "with open('Data/Hamiltonians/LiH_pauli_representation.pkl', 'wb') as f:\n",
    "    pickle.dump([coefficients, nonzero_pauli_strings],f)"
   ]
  }
 ],
 "metadata": {
  "kernelspec": {
   "display_name": "modmd_env",
   "language": "python",
   "name": "python3"
  },
  "language_info": {
   "codemirror_mode": {
    "name": "ipython",
    "version": 3
   },
   "file_extension": ".py",
   "mimetype": "text/x-python",
   "name": "python",
   "nbconvert_exporter": "python",
   "pygments_lexer": "ipython3",
   "version": "3.12.5"
  }
 },
 "nbformat": 4,
 "nbformat_minor": 2
}
