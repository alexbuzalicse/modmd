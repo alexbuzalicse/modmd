{
 "cells": [
  {
   "cell_type": "code",
   "execution_count": null,
   "id": "initial_id",
   "metadata": {
    "ExecuteTime": {
     "end_time": "2024-09-24T19:16:37.496609Z",
     "start_time": "2024-09-24T19:16:37.379732Z"
    }
   },
   "outputs": [],
   "source": [
    "# Imports\n",
    "from src import *\n",
    "import scipy.sparse.linalg as spsl\n",
    "import matplotlib.pyplot as plt\n",
    "import matplotlib"
   ]
  },
  {
   "cell_type": "code",
   "execution_count": null,
   "id": "fb583e2f56d6d574",
   "metadata": {
    "ExecuteTime": {
     "end_time": "2024-09-24T19:16:37.583923Z",
     "start_time": "2024-09-24T19:16:37.579683Z"
    }
   },
   "outputs": [],
   "source": [
    "# Hamiltonian Parameters\n",
    "num_qubits = 15\n",
    "h = 1\n",
    "J = 1\n",
    "\n",
    "# Algorithm Parameters\n",
    "max_energy_level = 4\n",
    "kd_ratio = 2.5\n",
    "noise_threshold = 1e-2\n",
    "epsilon = 1e-3\n",
    "K_values = list(range(0,500,1))\n",
    "delta_t = 0.083\n",
    "num_modmd_observables = 6\n",
    "num_trials = 20"
   ]
  },
  {
   "cell_type": "code",
   "execution_count": null,
   "id": "21cca6e4d1d35c7f",
   "metadata": {
    "ExecuteTime": {
     "end_time": "2024-09-24T19:00:17.044807Z",
     "start_time": "2024-09-24T19:00:17.032436Z"
    }
   },
   "outputs": [],
   "source": [
    "# Construct Hamiltonian, get true eigenergies\n",
    "xx_strings = ['I' * i + 'ZZ' + 'I'* (num_qubits - i - 2) for i in range(num_qubits-1)]\n",
    "z_strings = ['I' * i + 'X' + 'I'* (num_qubits - i - 1) for i in range(num_qubits)]\n",
    "\n",
    "sparse_tfim_hamiltonian = SparsePauliOp.from_list([(s,-J) for s in xx_strings] + [(s,-h) for s in z_strings]).to_matrix(sparse=True)\n",
    "true_eigenenergies = sorted(spsl.eigsh(sparse_tfim_hamiltonian,k=max_energy_level+1,which = 'SA')[0])"
   ]
  },
  {
   "cell_type": "code",
   "execution_count": null,
   "id": "a7c3a04fffdc4e4c",
   "metadata": {},
   "outputs": [],
   "source": [
    "# Construct reference state\n",
    "indices = np.argsort(sparse_tfim_hamiltonian.diagonal())\n",
    "reference_state = bitstring_superposition_state(num_qubits,[bin(indices[i])[2:] for i in range(6)])\n",
    "\n",
    "# Get evolved reference states\n",
    "max_K = K_values[-1]\n",
    "max_d = int(max_K/kd_ratio)\n",
    "time_evolution_operator = -1j*sparse_tfim_hamiltonian*delta_t\n",
    "evolved_reference_states = spsl.expm_multiply(time_evolution_operator,reference_state,start=0,stop=max_d+max_K+1,num = max_d+max_K+2)"
   ]
  },
  {
   "cell_type": "code",
   "execution_count": null,
   "id": "2360f4df52adc0b2",
   "metadata": {},
   "outputs": [],
   "source": [
    "# # ODMD Results\n",
    "odmd_observables = [SparsePauliOp('I' * num_qubits).to_matrix(sparse=True)]\n",
    "odmd_results = []\n",
    "\n",
    "X_elements = generate_X_elements(odmd_observables,max_d,max_K,reference_state,evolved_reference_states)\n",
    "\n",
    "for trial in range(num_trials):\n",
    "    \n",
    "    gaussian_noise = np.random.normal(0,epsilon,size=X_elements.shape) + 1j * np.random.normal(0,epsilon,size=X_elements.shape)\n",
    "    noisy_X_elements = X_elements + gaussian_noise\n",
    "\n",
    "    odmd_results.append(varying_K_results(len(odmd_observables),noise_threshold,noisy_X_elements,delta_t,K_values,kd_ratio,max_energy_level))"
   ]
  },
  {
   "cell_type": "code",
   "execution_count": null,
   "id": "e695c973",
   "metadata": {},
   "outputs": [],
   "source": [
    "# MODMD Results\n",
    "modmd_results = []\n",
    "\n",
    "for trial in range(num_trials):\n",
    "    \n",
    "    modmd_observables = random_one_local_paulis(num_qubits,num_modmd_observables)\n",
    "\n",
    "    X_elements = generate_X_elements(modmd_observables,max_d,max_K,reference_state,evolved_reference_states)\n",
    "    gaussian_noise = np.random.normal(0,epsilon,size=X_elements.shape) + 1j * np.random.normal(0,epsilon,size=X_elements.shape)\n",
    "    noisy_X_elements = X_elements + gaussian_noise\n",
    "\n",
    "    modmd_results.append(varying_K_results(len(modmd_observables),noise_threshold,noisy_X_elements,delta_t,K_values,kd_ratio,max_energy_level))"
   ]
  },
  {
   "cell_type": "code",
   "execution_count": null,
   "id": "21227535",
   "metadata": {},
   "outputs": [],
   "source": [
    "# Compute errors\n",
    "absolute_odmd_errors = np.array([np.abs(odmd_results[i] - true_eigenenergies) for i in range(num_trials)])\n",
    "absolute_modmd_errors = np.array([np.abs(modmd_results[i] - true_eigenenergies) for i in range(num_trials)[0:17]])"
   ]
  },
  {
   "cell_type": "code",
   "execution_count": null,
   "id": "17816b99",
   "metadata": {},
   "outputs": [],
   "source": [
    "# Plotting\n",
    "energy_levels = [0,1,2,3]\n",
    "algorithm = 'MODMD'\n",
    "colors = ['#c8f0a5','#7bccc4','#43a2ca','#0868ac']\n",
    "labels = [r'$|\\delta E_0|$',r'$|\\delta E_1|$',r'$|\\delta E_2|$',r'$|\\delta E_3|$']\n",
    "\n",
    "for i, energy_level in enumerate(energy_levels):\n",
    "\n",
    "    if algorithm == 'ODMD':\n",
    "        odmd_average = np.average(absolute_odmd_errors,0)[:,energy_level]\n",
    "        odmd_std = np.std(absolute_odmd_errors,0)[:,energy_level]\n",
    "        plt.semilogy(K_values, odmd_average,'--',color = colors[i],label = labels[i])\n",
    "        plt.fill_between(K_values,odmd_average,odmd_average + odmd_std,color = colors[i],alpha = .3)\n",
    "        \n",
    "    elif algorithm == 'MODMD':\n",
    "        modmd_average = np.average(absolute_modmd_errors,0)[:,energy_level]\n",
    "        modmd_std = np.std(absolute_modmd_errors,0)[:,energy_level]\n",
    "        plt.semilogy(K_values,modmd_average,color = colors[i],label = labels[i])\n",
    "        plt.fill_between(K_values,modmd_average,modmd_average + modmd_std,color = colors[i],alpha = .3)\n",
    "\n",
    "plt.axhline(epsilon, color = '#95ab9b', linestyle = '--', label = r'$\\epsilon_\\text{noise}$')\n",
    "matplotlib.rcParams.update({'font.size': 14})\n",
    "plt.xlabel(r'K ($\\propto \\text{Simulation Time})$')\n",
    "plt.ylabel(r'Absolute Error')\n",
    "plt.legend(fontsize=14)"
   ]
  }
 ],
 "metadata": {
  "kernelspec": {
   "display_name": "modmd_env",
   "language": "python",
   "name": "python3"
  },
  "language_info": {
   "codemirror_mode": {
    "name": "ipython",
    "version": 3
   },
   "file_extension": ".py",
   "mimetype": "text/x-python",
   "name": "python",
   "nbconvert_exporter": "python",
   "pygments_lexer": "ipython3",
   "version": "3.12.5"
  },
  "varInspector": {
   "cols": {
    "lenName": 16,
    "lenType": 16,
    "lenVar": 40
   },
   "kernels_config": {
    "python": {
     "delete_cmd_postfix": "",
     "delete_cmd_prefix": "del ",
     "library": "var_list.py",
     "varRefreshCmd": "print(var_dic_list())"
    },
    "r": {
     "delete_cmd_postfix": ") ",
     "delete_cmd_prefix": "rm(",
     "library": "var_list.r",
     "varRefreshCmd": "cat(var_dic_list()) "
    }
   },
   "types_to_exclude": [
    "module",
    "function",
    "builtin_function_or_method",
    "instance",
    "_Feature"
   ],
   "window_display": false
  }
 },
 "nbformat": 4,
 "nbformat_minor": 5
}
