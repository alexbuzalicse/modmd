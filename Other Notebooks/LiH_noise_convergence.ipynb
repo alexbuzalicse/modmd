{
 "cells": [
  {
   "cell_type": "code",
   "execution_count": null,
   "metadata": {},
   "outputs": [],
   "source": [
    "# Imports\n",
    "import sys\n",
    "import os\n",
    "project_root = os.path.abspath(os.path.join(os.getcwd(), '..'))\n",
    "if project_root not in sys.path: sys.path.insert(0, project_root)\n",
    "\n",
    "from src import *\n",
    "import scipy.sparse.linalg as spsl\n",
    "import matplotlib.pyplot as plt\n",
    "import matplotlib"
   ]
  },
  {
   "cell_type": "code",
   "execution_count": null,
   "metadata": {},
   "outputs": [],
   "source": [
    "# Algorithm parameters\n",
    "max_energy_level = 3\n",
    "kd_ratio = 2.5\n",
    "noise_thresholds = 1/(10**np.arange(1,7,.5))\n",
    "epsilon_values = np.array([delta/10 for delta in noise_thresholds])\n",
    "K = 500\n",
    "delta_t = 0.39\n",
    "num_trials = 20\n",
    "\n",
    "# Hamiltonian Parameters\n",
    "molecule = 'Li 0.0 0.0 0.0; H 0.0 0.0 1.595'\n",
    "basis_set = 'sto-3g'\n",
    "mapper = 'parity'"
   ]
  },
  {
   "cell_type": "code",
   "execution_count": null,
   "metadata": {},
   "outputs": [],
   "source": [
    "# Generate Hamiltonian and get true eigenenergies\n",
    "hamiltonian = molecular_hamiltonian(molecule,basis_set,mapper)\n",
    "sparse_hamiltonian = hamiltonian.to_matrix(sparse = True)\n",
    "num_qubits = hamiltonian.num_qubits\n",
    "\n",
    "v, w = spsl.eigsh(sparse_hamiltonian,k=20,which = 'SA')\n",
    "true_eigenenergies = np.unique(np.round(v,8))[:max_energy_level+1]"
   ]
  },
  {
   "cell_type": "code",
   "execution_count": null,
   "metadata": {},
   "outputs": [],
   "source": [
    "# Construct reference state\n",
    "indices = np.argsort(sparse_hamiltonian.diagonal())\n",
    "reference_state = bitstring_superposition_state(num_qubits,[bin(indices[i])[2:] for i in [0,1,1,2,3,4,5]])\n",
    "\n",
    "# Get evolved reference states\n",
    "d = int((K)/kd_ratio)\n",
    "time_evolution_operator = -1j*sparse_hamiltonian*delta_t\n",
    "evolved_reference_states = spsl.expm_multiply(time_evolution_operator,reference_state,start=0,stop=d+K+1,num = d+K+2)"
   ]
  },
  {
   "cell_type": "code",
   "execution_count": null,
   "metadata": {},
   "outputs": [],
   "source": [
    "# Get MODMD observables\n",
    "pauli_strings, coeffs = zip(*sorted(hamiltonian.to_list(), key = lambda x: np.abs(np.real(x[1])), reverse = True))\n",
    "\n",
    "modmd_observables = ([SparsePauliOp('I' * num_qubits).to_matrix(sparse=True)] + \n",
    "                     [SparsePauliOp(p).to_matrix(sparse=True) for p in pauli_strings[60:66]])"
   ]
  },
  {
   "cell_type": "code",
   "execution_count": null,
   "metadata": {},
   "outputs": [],
   "source": [
    "# ODMD Results\n",
    "odmd_results = {epsilon:[] for epsilon in epsilon_values}\n",
    "odmd_observables = [SparsePauliOp('I' * num_qubits).to_matrix(sparse=True)]\n",
    "\n",
    "X_elements = generate_X_elements(odmd_observables,d,K,reference_state,evolved_reference_states)\n",
    "\n",
    "for i, epsilon in enumerate(epsilon_values):\n",
    "    \n",
    "    for trial in range(num_trials):\n",
    "\n",
    "        gaussian_noise = np.random.normal(0,epsilon,size=X_elements.shape) + 1j * np.random.normal(0,epsilon,size=X_elements.shape)\n",
    "        noisy_X_elements = X_elements + gaussian_noise\n",
    "\n",
    "        odmd_results[epsilon].append(\n",
    "            modmd_eigenenergies(len(odmd_observables),noise_thresholds[i],noisy_X_elements,delta_t,K,kd_ratio,max_energy_level))\n",
    "        odmd_results[epsilon][-1] = np.append(odmd_results[epsilon][-1],[-np.inf] * (max_energy_level + 1 - len(odmd_results[epsilon][-1])))"
   ]
  },
  {
   "cell_type": "code",
   "execution_count": null,
   "metadata": {},
   "outputs": [],
   "source": [
    "# MODMD Results\n",
    "modmd_results = {epsilon:[] for epsilon in epsilon_values}\n",
    "X_elements = generate_X_elements(modmd_observables,d,K,reference_state,evolved_reference_states)\n",
    "\n",
    "for i,epsilon in enumerate(epsilon_values):\n",
    "    \n",
    "    for trial in range(num_trials):\n",
    "\n",
    "        gaussian_noise = np.random.normal(0,epsilon,size=X_elements.shape) + 1j * np.random.normal(0,epsilon,size=X_elements.shape)\n",
    "        noisy_X_elements = X_elements + gaussian_noise\n",
    "\n",
    "        modmd_results[epsilon].append(\n",
    "            modmd_eigenenergies(len(modmd_observables),noise_thresholds[i],noisy_X_elements,delta_t,K,kd_ratio,max_energy_level))\n",
    "        modmd_results[epsilon][-1] = np.append(modmd_results[epsilon][-1],[-np.inf] * (max_energy_level + 1 - len(modmd_results[epsilon][-1])))"
   ]
  },
  {
   "cell_type": "code",
   "execution_count": null,
   "metadata": {},
   "outputs": [],
   "source": [
    "# Compute errors\n",
    "absolute_odmd_errors = {epsilon: np.array([np.abs(odmd_results[epsilon][i] - true_eigenenergies) \n",
    "                        for i in range(num_trials)]) for epsilon in epsilon_values}\n",
    "absolute_modmd_errors = {epsilon: np.array([np.abs(modmd_results[epsilon][i] - true_eigenenergies) \n",
    "                        for i in range(num_trials)]) for epsilon in epsilon_values}\n",
    "\n",
    "odmd_errors_average = np.array([np.average(absolute_odmd_errors[epsilon],0) for epsilon in epsilon_values])\n",
    "modmd_errors_average = np.array([np.average(absolute_modmd_errors[epsilon],0) for epsilon in epsilon_values])"
   ]
  },
  {
   "cell_type": "code",
   "execution_count": null,
   "metadata": {},
   "outputs": [],
   "source": [
    "# Plotting\n",
    "colors = get_color_set('LiH')\n",
    "labels = [r'$|\\delta E_0|$',r'$|\\delta E_1|$',r'$|\\delta E_2|$',r'$|\\delta E_3|$']\n",
    "matplotlib.rcParams.update({'font.size': 14})\n",
    "\n",
    "for energy_level in range(max_energy_level+1):\n",
    "    plt.loglog(1/epsilon_values,odmd_errors_average[:,energy_level], '--x', color = colors[energy_level])\n",
    "    plt.loglog(1/epsilon_values,modmd_errors_average[:,energy_level], '-o', color = colors[energy_level], label = labels[energy_level])\n",
    "\n",
    "plt.xlabel(r'1/$\\epsilon_\\text{noise}$')\n",
    "plt.ylabel('Absolute Error')\n",
    "plt.legend(framealpha = 0, fontsize = 14)"
   ]
  }
 ],
 "metadata": {
  "kernelspec": {
   "display_name": "modmd_env",
   "language": "python",
   "name": "python3"
  },
  "language_info": {
   "codemirror_mode": {
    "name": "ipython",
    "version": 3
   },
   "file_extension": ".py",
   "mimetype": "text/x-python",
   "name": "python",
   "nbconvert_exporter": "python",
   "pygments_lexer": "ipython3",
   "version": "3.12.5"
  }
 },
 "nbformat": 4,
 "nbformat_minor": 2
}
