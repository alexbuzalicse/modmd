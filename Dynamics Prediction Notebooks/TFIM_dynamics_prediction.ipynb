{
 "cells": [
  {
   "cell_type": "code",
   "execution_count": null,
   "metadata": {},
   "outputs": [],
   "source": [
    "# Imports\n",
    "import sys\n",
    "import os\n",
    "project_root = os.path.abspath(os.path.join(os.getcwd(), '..'))\n",
    "if project_root not in sys.path: sys.path.insert(0, project_root)\n",
    "\n",
    "from src import *\n",
    "import scipy.sparse.linalg as spsl\n",
    "import matplotlib.pyplot as plt\n",
    "import matplotlib"
   ]
  },
  {
   "cell_type": "code",
   "execution_count": null,
   "metadata": {},
   "outputs": [],
   "source": [
    "# Hamiltonian Parameters\n",
    "num_qubits = 15\n",
    "J = 1\n",
    "h = 1\n",
    "\n",
    "# Algorithm Parameters\n",
    "kd_ratio = 2.5\n",
    "noise_threshold = 1e-2\n",
    "epsilon = 1e-3\n",
    "delta_t = 0.08\n",
    "num_modmd_observables = 7\n",
    "num_trials = 20\n",
    "\n",
    "# Analysis Parameters\n",
    "kstar_values = [500,1500,2500]\n",
    "num_predicted_steps = 200"
   ]
  },
  {
   "cell_type": "code",
   "execution_count": null,
   "metadata": {},
   "outputs": [],
   "source": [
    "# Generate Hamiltonian\n",
    "sparse_hamiltonian = tfim_hamiltonian(num_qubits,J,h).to_matrix(sparse=True)"
   ]
  },
  {
   "cell_type": "code",
   "execution_count": null,
   "metadata": {},
   "outputs": [],
   "source": [
    "# Construct reference state\n",
    "indices = np.argsort(sparse_hamiltonian.diagonal())\n",
    "reference_state = bitstring_superposition_state(num_qubits,[bin(indices[i])[2:] for i in range(6)])\n",
    "\n",
    "# Get evolved reference states\n",
    "max_K = int(np.round((kstar_values[-1]+num_predicted_steps+1)/(1+1/kd_ratio)))\n",
    "max_d = int((max_K)/kd_ratio)\n",
    "time_evolution_operator = -1j*sparse_hamiltonian*delta_t\n",
    "evolved_reference_states = spsl.expm_multiply(time_evolution_operator,reference_state,start=0,stop=max_d+max_K+1,num = max_d+max_K+2)"
   ]
  },
  {
   "cell_type": "code",
   "execution_count": null,
   "metadata": {},
   "outputs": [],
   "source": [
    "# Get MODMD observables\n",
    "modmd_observables = [SparsePauliOp('I'*num_qubits).to_matrix(sparse=True)] + random_one_local_paulis(num_qubits,num_modmd_observables-1)"
   ]
  },
  {
   "cell_type": "code",
   "execution_count": null,
   "metadata": {},
   "outputs": [],
   "source": [
    "# True/Measured signals\n",
    "measured_signals = {idx:{kstar:[] for kstar in kstar_values} for idx in range(len(modmd_observables))}\n",
    "\n",
    "for idx in range(len(modmd_observables)):\n",
    "\n",
    "    odmd_observables = [modmd_observables[idx]]\n",
    "    X_elements = generate_X_elements(odmd_observables,max_d,max_K,reference_state,evolved_reference_states)\n",
    "\n",
    "    for kstar in kstar_values:\n",
    "        for trial in range(num_trials):\n",
    "\n",
    "            gaussian_noise = np.random.normal(0,epsilon,size=X_elements.shape) + 1j * np.random.normal(0,epsilon,size=X_elements.shape)\n",
    "            noisy_X_elements = X_elements + gaussian_noise\n",
    "            \n",
    "            # Measure to some K*, extrapolate the rest\n",
    "            K = int(np.round(kstar/(1+1/kd_ratio)))\n",
    "            d = int(K/kd_ratio)\n",
    "\n",
    "            k_range = range(K+d+1,K+d+1+num_predicted_steps)\n",
    "            measured_signals[idx][kstar].append(noisy_X_elements[k_range])"
   ]
  },
  {
   "cell_type": "code",
   "execution_count": null,
   "metadata": {},
   "outputs": [],
   "source": [
    "# MODMD Results\n",
    "X_elements = generate_X_elements(modmd_observables,max_d,max_K,reference_state,evolved_reference_states)\n",
    "\n",
    "predicted_signals_modmd = {kstar:[] for kstar in kstar_values}\n",
    "\n",
    "for kstar in kstar_values:\n",
    "    \n",
    "    for trial in range(num_trials):\n",
    "\n",
    "        gaussian_noise = np.random.normal(0,epsilon,size=X_elements.shape) + 1j * np.random.normal(0,epsilon,size=X_elements.shape)\n",
    "        noisy_X_elements = X_elements + gaussian_noise\n",
    "\n",
    "        # Measure to some K*, extrapolate the rest\n",
    "        K = int(np.round(kstar/(1+1/kd_ratio)))\n",
    "        d = int(K/kd_ratio)\n",
    "\n",
    "        k_range = range(K+d+1,K+d+1+num_predicted_steps)\n",
    "\n",
    "        X,Xp = X_matrices(len(modmd_observables),d,K,noisy_X_elements)\n",
    "        A = A_matrix(noise_threshold,X,Xp,False)\n",
    "        last_column = Xp[:,-1]\n",
    "\n",
    "        pred = []\n",
    "        for predicted_step in range(num_predicted_steps):\n",
    "            last_column = A@last_column\n",
    "            pred.append(last_column[-len(modmd_observables):])\n",
    "\n",
    "        predicted_signals_modmd[kstar].append(pred)"
   ]
  },
  {
   "cell_type": "code",
   "execution_count": null,
   "metadata": {},
   "outputs": [],
   "source": [
    "# Results processing\n",
    "average_measured_signals = {}\n",
    "for idx in range(len(modmd_observables)):\n",
    "    for kstar in kstar_values:\n",
    "        average_measured_signals[(idx,kstar)] = np.average(measured_signals[idx][kstar],0)\n",
    "\n",
    "average_predicted_signals_modmd = {kstar:np.average(predicted_signals_modmd[kstar],0) for kstar in kstar_values}"
   ]
  },
  {
   "cell_type": "code",
   "execution_count": null,
   "metadata": {},
   "outputs": [],
   "source": [
    "amplitude_type = 'Re'\n",
    "idx = 5\n",
    "\n",
    "colors = get_color_set('TFIM')\n",
    "fig, ax = plt.subplots(len(kstar_values),1,figsize=(15,7),layout='constrained',sharey=True)\n",
    "matplotlib.rcParams.update({'font.size': 14})\n",
    "\n",
    "for i, kstar in enumerate(kstar_values):\n",
    "\n",
    "    if amplitude_type == 'Re':\n",
    "        ax[i].plot(range(1,num_predicted_steps+1),average_measured_signals[(idx,kstar)].real, \n",
    "                   label = 'True Signal' if i == 0 else None, color = colors[0])\n",
    "        ax[i].plot(range(1,num_predicted_steps+1), average_predicted_signals_modmd[kstar][:,idx].real, '--', \n",
    "                   label = f'MODMD Predicted Signal' if i == 0 else None, color = colors[3])\n",
    "    \n",
    "    elif amplitude_type == 'Im':\n",
    "        ax[i].plot(range(1,num_predicted_steps+1),average_measured_signals[(idx,kstar)].imag, \n",
    "                   label = 'True Signal' if i == 0 else None, color = colors[0])\n",
    "        ax[i].plot(range(1,num_predicted_steps+1), average_predicted_signals_modmd[kstar][:,idx].imag, '--', \n",
    "                   label = f'MODMD Predicted Signal' if i == 0 else None, color = colors[3])\n",
    "\n",
    "    ax[i].set_ylabel(f'k*={kstar}', rotation = -90, labelpad = 15)\n",
    "    ax[i].yaxis.set_label_position(\"right\")\n",
    "\n",
    "fig.supxlabel('$k - k^*$')\n",
    "fig.supylabel(rf'{amplitude_type}[$\\langle\\phi_0|O_i|\\phi_0(k\\Delta t)\\rangle$]')\n",
    "ax[0].legend( loc='upper right')"
   ]
  }
 ],
 "metadata": {
  "kernelspec": {
   "display_name": "modmd_env",
   "language": "python",
   "name": "python3"
  },
  "language_info": {
   "codemirror_mode": {
    "name": "ipython",
    "version": 3
   },
   "file_extension": ".py",
   "mimetype": "text/x-python",
   "name": "python",
   "nbconvert_exporter": "python",
   "pygments_lexer": "ipython3",
   "version": "3.12.5"
  }
 },
 "nbformat": 4,
 "nbformat_minor": 2
}
