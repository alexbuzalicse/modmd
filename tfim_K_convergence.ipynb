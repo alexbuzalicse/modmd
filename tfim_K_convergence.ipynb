{
 "cells": [
  {
   "cell_type": "code",
   "execution_count": 1,
   "id": "initial_id",
   "metadata": {
    "ExecuteTime": {
     "end_time": "2024-09-24T19:16:37.496609Z",
     "start_time": "2024-09-24T19:16:37.379732Z"
    }
   },
   "outputs": [],
   "source": [
    "from src import *\n",
    "import scipy.sparse.linalg as spsl\n",
    "from qiskit.quantum_info import SparsePauliOp\n",
    "import pickle\n",
    "import matplotlib.pyplot as plt\n",
    "import matplotlib"
   ]
  },
  {
   "cell_type": "code",
   "execution_count": 2,
   "id": "fb583e2f56d6d574",
   "metadata": {
    "ExecuteTime": {
     "end_time": "2024-09-24T19:16:37.583923Z",
     "start_time": "2024-09-24T19:16:37.579683Z"
    }
   },
   "outputs": [],
   "source": [
    "# Hamiltonian Parameters\n",
    "num_qubits = 15\n",
    "h = 1\n",
    "J = 1\n",
    "\n",
    "# Algorithm Parameters\n",
    "max_energy_level = 4\n",
    "kd_ratio = 2.5\n",
    "noise_threshold = 1e-2\n",
    "epsilon = 1e-3\n",
    "K_values = list(range(0,500,1))\n",
    "delta_t = 0.083\n",
    "num_modmd_observables = 6\n",
    "num_trials = 5"
   ]
  },
  {
   "cell_type": "code",
   "execution_count": 3,
   "id": "21cca6e4d1d35c7f",
   "metadata": {
    "ExecuteTime": {
     "end_time": "2024-09-24T19:00:17.044807Z",
     "start_time": "2024-09-24T19:00:17.032436Z"
    }
   },
   "outputs": [],
   "source": [
    "# Construct Hamiltonian, get true eigenergies\n",
    "xx_strings = ['I' * i + 'ZZ' + 'I'* (num_qubits - i - 2) for i in range(num_qubits-1)]\n",
    "z_strings = ['I' * i + 'X' + 'I'* (num_qubits - i - 1) for i in range(num_qubits)]\n",
    "\n",
    "sparse_tfim_hamiltonian = SparsePauliOp.from_list([(s,-J) for s in xx_strings] + [(s,-h) for s in z_strings]).to_matrix(sparse=True)\n",
    "true_eigenenergies = spsl.eigsh(sparse_tfim_hamiltonian,k=max_energy_level+1,which = 'SA')[0]"
   ]
  },
  {
   "cell_type": "code",
   "execution_count": 4,
   "id": "a7c3a04fffdc4e4c",
   "metadata": {},
   "outputs": [
    {
     "ename": "KeyboardInterrupt",
     "evalue": "",
     "output_type": "error",
     "traceback": [
      "\u001b[0;31m---------------------------------------------------------------------------\u001b[0m",
      "\u001b[0;31mKeyboardInterrupt\u001b[0m                         Traceback (most recent call last)",
      "Cell \u001b[0;32mIn[4], line 9\u001b[0m\n\u001b[1;32m      7\u001b[0m max_d \u001b[38;5;241m=\u001b[39m \u001b[38;5;28mint\u001b[39m(max_K\u001b[38;5;241m/\u001b[39mkd_ratio)\n\u001b[1;32m      8\u001b[0m time_evolution_operator \u001b[38;5;241m=\u001b[39m \u001b[38;5;241m-\u001b[39m\u001b[38;5;241m1\u001b[39mj\u001b[38;5;241m*\u001b[39msparse_tfim_hamiltonian\u001b[38;5;241m*\u001b[39mdelta_t\n\u001b[0;32m----> 9\u001b[0m evolved_reference_states \u001b[38;5;241m=\u001b[39m spsl\u001b[38;5;241m.\u001b[39mexpm_multiply(time_evolution_operator,reference_state,start\u001b[38;5;241m=\u001b[39m\u001b[38;5;241m0\u001b[39m,stop\u001b[38;5;241m=\u001b[39mmax_d\u001b[38;5;241m+\u001b[39mmax_K\u001b[38;5;241m+\u001b[39m\u001b[38;5;241m1\u001b[39m,num \u001b[38;5;241m=\u001b[39m max_d\u001b[38;5;241m+\u001b[39mmax_K\u001b[38;5;241m+\u001b[39m\u001b[38;5;241m2\u001b[39m)\n",
      "File \u001b[0;32m~/anaconda3/envs/modmd_env/lib/python3.12/site-packages/scipy/sparse/linalg/_expm_multiply.py:209\u001b[0m, in \u001b[0;36mexpm_multiply\u001b[0;34m(A, B, start, stop, num, endpoint, traceA)\u001b[0m\n\u001b[1;32m    207\u001b[0m     X \u001b[38;5;241m=\u001b[39m _expm_multiply_simple(A, B, traceA\u001b[38;5;241m=\u001b[39mtraceA)\n\u001b[1;32m    208\u001b[0m \u001b[38;5;28;01melse\u001b[39;00m:\n\u001b[0;32m--> 209\u001b[0m     X, status \u001b[38;5;241m=\u001b[39m _expm_multiply_interval(A, B, start, stop, num,\n\u001b[1;32m    210\u001b[0m                                         endpoint, traceA\u001b[38;5;241m=\u001b[39mtraceA)\n\u001b[1;32m    211\u001b[0m \u001b[38;5;28;01mreturn\u001b[39;00m X\n",
      "File \u001b[0;32m~/anaconda3/envs/modmd_env/lib/python3.12/site-packages/scipy/sparse/linalg/_expm_multiply.py:723\u001b[0m, in \u001b[0;36m_expm_multiply_interval\u001b[0;34m(A, B, start, stop, num, endpoint, traceA, balance, status_only)\u001b[0m\n\u001b[1;32m    721\u001b[0m         \u001b[38;5;28;01mreturn\u001b[39;00m \u001b[38;5;241m2\u001b[39m\n\u001b[1;32m    722\u001b[0m     \u001b[38;5;28;01melse\u001b[39;00m:\n\u001b[0;32m--> 723\u001b[0m         \u001b[38;5;28;01mreturn\u001b[39;00m _expm_multiply_interval_core_2(A, X,\n\u001b[1;32m    724\u001b[0m                 h, mu, m_star, s, q, tol)\n\u001b[1;32m    725\u001b[0m \u001b[38;5;28;01melse\u001b[39;00m:\n\u001b[1;32m    726\u001b[0m     \u001b[38;5;28;01mraise\u001b[39;00m \u001b[38;5;167;01mException\u001b[39;00m(\u001b[38;5;124m'\u001b[39m\u001b[38;5;124minternal error\u001b[39m\u001b[38;5;124m'\u001b[39m)\n",
      "File \u001b[0;32m~/anaconda3/envs/modmd_env/lib/python3.12/site-packages/scipy/sparse/linalg/_expm_multiply.py:806\u001b[0m, in \u001b[0;36m_expm_multiply_interval_core_2\u001b[0;34m(A, X, h, mu, m_star, s, q, tol)\u001b[0m\n\u001b[1;32m    804\u001b[0m inf_norm_K_p_1 \u001b[38;5;241m=\u001b[39m _exact_inf_norm(K[p])\n\u001b[1;32m    805\u001b[0m c2 \u001b[38;5;241m=\u001b[39m coeff \u001b[38;5;241m*\u001b[39m inf_norm_K_p_1\n\u001b[0;32m--> 806\u001b[0m \u001b[38;5;28;01mif\u001b[39;00m c1 \u001b[38;5;241m+\u001b[39m c2 \u001b[38;5;241m<\u001b[39m\u001b[38;5;241m=\u001b[39m tol \u001b[38;5;241m*\u001b[39m _exact_inf_norm(F):\n\u001b[1;32m    807\u001b[0m     \u001b[38;5;28;01mbreak\u001b[39;00m\n\u001b[1;32m    808\u001b[0m c1 \u001b[38;5;241m=\u001b[39m c2\n",
      "File \u001b[0;32m~/anaconda3/envs/modmd_env/lib/python3.12/site-packages/scipy/sparse/linalg/_expm_multiply.py:24\u001b[0m, in \u001b[0;36m_exact_inf_norm\u001b[0;34m(A)\u001b[0m\n\u001b[1;32m     22\u001b[0m     \u001b[38;5;28;01mreturn\u001b[39;00m \u001b[38;5;28mmax\u001b[39m(\u001b[38;5;28mabs\u001b[39m(A)\u001b[38;5;241m.\u001b[39msum(axis\u001b[38;5;241m=\u001b[39m\u001b[38;5;241m1\u001b[39m))\n\u001b[1;32m     23\u001b[0m \u001b[38;5;28;01melse\u001b[39;00m:\n\u001b[0;32m---> 24\u001b[0m     \u001b[38;5;28;01mreturn\u001b[39;00m np\u001b[38;5;241m.\u001b[39mlinalg\u001b[38;5;241m.\u001b[39mnorm(A, np\u001b[38;5;241m.\u001b[39minf)\n",
      "File \u001b[0;32m~/anaconda3/envs/modmd_env/lib/python3.12/site-packages/numpy/linalg/_linalg.py:2817\u001b[0m, in \u001b[0;36mnorm\u001b[0;34m(x, ord, axis, keepdims)\u001b[0m\n\u001b[1;32m   2815\u001b[0m \u001b[38;5;28;01mif\u001b[39;00m \u001b[38;5;28mlen\u001b[39m(axis) \u001b[38;5;241m==\u001b[39m \u001b[38;5;241m1\u001b[39m:\n\u001b[1;32m   2816\u001b[0m     \u001b[38;5;28;01mif\u001b[39;00m \u001b[38;5;28mord\u001b[39m \u001b[38;5;241m==\u001b[39m inf:\n\u001b[0;32m-> 2817\u001b[0m         \u001b[38;5;28;01mreturn\u001b[39;00m \u001b[38;5;28mabs\u001b[39m(x)\u001b[38;5;241m.\u001b[39mmax(axis\u001b[38;5;241m=\u001b[39maxis, keepdims\u001b[38;5;241m=\u001b[39mkeepdims)\n\u001b[1;32m   2818\u001b[0m     \u001b[38;5;28;01melif\u001b[39;00m \u001b[38;5;28mord\u001b[39m \u001b[38;5;241m==\u001b[39m \u001b[38;5;241m-\u001b[39minf:\n\u001b[1;32m   2819\u001b[0m         \u001b[38;5;28;01mreturn\u001b[39;00m \u001b[38;5;28mabs\u001b[39m(x)\u001b[38;5;241m.\u001b[39mmin(axis\u001b[38;5;241m=\u001b[39maxis, keepdims\u001b[38;5;241m=\u001b[39mkeepdims)\n",
      "\u001b[0;31mKeyboardInterrupt\u001b[0m: "
     ]
    }
   ],
   "source": [
    "# Construct reference state\n",
    "indices = np.argsort(sparse_tfim_hamiltonian.diagonal())\n",
    "reference_state = bitstring_superposition_state(num_qubits,[bin(indices[i])[2:] for i in range(6)])\n",
    "\n",
    "# Get evolved reference states\n",
    "max_K = K_values[-1]\n",
    "max_d = int(max_K/kd_ratio)\n",
    "time_evolution_operator = -1j*sparse_tfim_hamiltonian*delta_t\n",
    "evolved_reference_states = spsl.expm_multiply(time_evolution_operator,reference_state,start=0,stop=max_d+max_K+1,num = max_d+max_K+2)"
   ]
  },
  {
   "cell_type": "code",
   "execution_count": null,
   "id": "cc3e3a8b",
   "metadata": {},
   "outputs": [],
   "source": [
    "# Load/generate observable set FIX THIS\n",
    "try: \n",
    "    with open(f'Data/Observable Sets/one_local_paulis_{num_qubits}_qubits.pkl', 'rb') as f:\n",
    "        modmd_observable_set = pickle.load(f)\n",
    "\n",
    "except:\n",
    "    modmd_observable_set = all_one_local_paulis(num_qubits)\n",
    "    with open(f'Data/Observable Sets/one_local_paulis_{num_qubits}_qubits.pkl', 'wb') as f:\n",
    "        pickle.dump(modmd_observable_set, f)"
   ]
  },
  {
   "cell_type": "code",
   "execution_count": null,
   "id": "2360f4df52adc0b2",
   "metadata": {},
   "outputs": [],
   "source": [
    "# ODMD Results\n",
    "observables = [SparsePauliOp('I' * num_qubits).to_matrix(sparse=True)]\n",
    "odmd_results = []\n",
    "\n",
    "X_elements = generate_X_elements(observables,max_d,max_K,reference_state,evolved_reference_states)\n",
    "\n",
    "for trial in range(num_trials):\n",
    "\n",
    "    print(f'Trial {trial+1}')\n",
    "    \n",
    "    gaussian_noise = np.random.normal(0,epsilon,size=X_elements.shape) + 1j * np.random.normal(0,epsilon,size=X_elements.shape)\n",
    "    noisy_X_elements = X_elements + gaussian_noise\n",
    "\n",
    "    odmd_results.append(varying_K_results(len(observables),noise_threshold,noisy_X_elements,delta_t,K_values,kd_ratio,max_energy_level))\n",
    "    "
   ]
  },
  {
   "cell_type": "code",
   "execution_count": null,
   "id": "e695c973",
   "metadata": {},
   "outputs": [],
   "source": [
    "# MODMD Results\n",
    "modmd_results = []\n",
    "\n",
    "for trial in range(num_trials):\n",
    "    print(f'Trial {trial+1}')\n",
    "    \n",
    "    observables = np.random.choice(modmd_observable_set,num_modmd_observables,replace=False)\n",
    "\n",
    "    X_elements = generate_X_elements(observables,max_d,max_K,reference_state,evolved_reference_states)\n",
    "    gaussian_noise = np.random.normal(0,epsilon,size=X_elements.shape) + 1j * np.random.normal(0,epsilon,size=X_elements.shape)\n",
    "    noisy_X_elements = X_elements + gaussian_noise\n",
    "\n",
    "    modmd_results.append(varying_K_results(len(observables),noise_threshold,noisy_X_elements,delta_t,K_values,kd_ratio,max_energy_level))"
   ]
  },
  {
   "cell_type": "code",
   "execution_count": null,
   "id": "21227535",
   "metadata": {},
   "outputs": [],
   "source": [
    "# Compute errors\n",
    "absolute_odmd_errors = np.array([np.abs(odmd_results[i] - true_eigenenergies) for i in range(num_trials)])\n",
    "absolute_modmd_errors = np.array([np.abs(modmd_results[i] - true_eigenenergies) for i in range(num_trials)])"
   ]
  },
  {
   "cell_type": "code",
   "execution_count": null,
   "id": "17816b99",
   "metadata": {},
   "outputs": [],
   "source": [
    "# Plotting\n",
    "energyLevels = [0,1,2,3]\n",
    "errorType = 'Absolute'\n",
    "algorithm = 'MODMD'\n",
    "colors = ['#c8f0a5','#7bccc4','#43a2ca','#0868ac']\n",
    "labels = [r'$|\\delta E_0|$',r'$|\\delta E_1|$',r'$|\\delta E_2|$',r'$|\\delta E_3|$']\n",
    "\n",
    "for i, energyLevel in enumerate(energyLevels):\n",
    "\n",
    "    if algorithm == 'ODMD':\n",
    "        odmd_average = np.average(absolute_odmd_errors,0)[:,energyLevel]\n",
    "        odmd_std = np.std(absolute_odmd_errors,0)[:,energyLevel]\n",
    "        plt.semilogy(K_values, odmd_average, '--', color = colors[i], label = labels[i])\n",
    "        plt.fill_between(K_values,odmd_average,odmd_average + odmd_std,color = colors[i],alpha = .3)\n",
    "    elif algorithm == 'MODMD':\n",
    "        modmd_average = np.average(absolute_modmd_errors,0)[:,energyLevel]\n",
    "        modmd_std = np.std(absolute_modmd_errors,0)[:,energyLevel]\n",
    "        plt.semilogy(K_values,modmd_average, '--',color = colors[i],label = labels[i])\n",
    "        plt.fill_between(K_values,modmd_average,modmd_average + modmd_std,color = colors[i],alpha = .3)\n",
    "\n",
    "matplotlib.rcParams.update({'font.size': 14})\n",
    "plt.axhline(epsilon, color = '#95ab9b', linestyle = '--', label = r'$\\epsilon_\\text{noise}$')\n",
    "plt.legend(framealpha = 0, fontsize=14)\n",
    "plt.xlabel('K')\n",
    "plt.ylabel(r'Absolute Error')"
   ]
  }
 ],
 "metadata": {
  "kernelspec": {
   "display_name": "Python 3 (ipykernel)",
   "language": "python",
   "name": "python3"
  },
  "language_info": {
   "codemirror_mode": {
    "name": "ipython",
    "version": 3
   },
   "file_extension": ".py",
   "mimetype": "text/x-python",
   "name": "python",
   "nbconvert_exporter": "python",
   "pygments_lexer": "ipython3",
   "version": "3.12.5"
  },
  "varInspector": {
   "cols": {
    "lenName": 16,
    "lenType": 16,
    "lenVar": 40
   },
   "kernels_config": {
    "python": {
     "delete_cmd_postfix": "",
     "delete_cmd_prefix": "del ",
     "library": "var_list.py",
     "varRefreshCmd": "print(var_dic_list())"
    },
    "r": {
     "delete_cmd_postfix": ") ",
     "delete_cmd_prefix": "rm(",
     "library": "var_list.r",
     "varRefreshCmd": "cat(var_dic_list()) "
    }
   },
   "types_to_exclude": [
    "module",
    "function",
    "builtin_function_or_method",
    "instance",
    "_Feature"
   ],
   "window_display": false
  }
 },
 "nbformat": 4,
 "nbformat_minor": 5
}
