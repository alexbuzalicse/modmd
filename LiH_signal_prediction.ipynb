{
 "cells": [
  {
   "cell_type": "code",
   "execution_count": null,
   "metadata": {},
   "outputs": [],
   "source": [
    "from src import *\n",
    "import scipy.sparse.linalg as spsl\n",
    "import matplotlib.pyplot as plt\n",
    "import matplotlib\n",
    "import pickle"
   ]
  },
  {
   "cell_type": "code",
   "execution_count": null,
   "metadata": {},
   "outputs": [],
   "source": [
    "# Algorithm Parameters\n",
    "num_qubits = 10\n",
    "kd_ratio = 2.5\n",
    "noise_threshold = 1e-2\n",
    "epsilon = 1e-3\n",
    "delta_t = 0.083\n",
    "num_trials = 20\n",
    "\n",
    "# Analysis Parameters\n",
    "kstar_values = [100,500,1000]\n",
    "num_predicted_steps = 200"
   ]
  },
  {
   "cell_type": "code",
   "execution_count": null,
   "metadata": {},
   "outputs": [],
   "source": [
    "# Load Hamiltonian, get true eigenergies\n",
    "with open('Data/Hamiltonians/LiH_equilibrium_hamiltonian.pkl', 'rb') as f:\n",
    "    sparse_lih_hamiltonian = pickle.load(f)"
   ]
  },
  {
   "cell_type": "code",
   "execution_count": null,
   "metadata": {},
   "outputs": [],
   "source": [
    "# Construct reference state\n",
    "reference_state = bitstring_superposition_state(num_qubits, ['0000100001', '0000000011', '0001000001','0010100000'])\n",
    "\n",
    "# Get evolved reference states\n",
    "max_K = int(np.round((kstar_values[-1]+num_predicted_steps+1)/(1+1/kd_ratio)))\n",
    "max_d = int((max_K)/kd_ratio)\n",
    "time_evolution_operator = -1j*sparse_lih_hamiltonian*delta_t\n",
    "evolved_reference_states = spsl.expm_multiply(time_evolution_operator,reference_state,start=0,stop=max_d+max_K+1,num = max_d+max_K+2)"
   ]
  },
  {
   "cell_type": "code",
   "execution_count": null,
   "metadata": {},
   "outputs": [],
   "source": [
    "# Get MODMD observables\n",
    "with open('Data/Hamiltonians/LiH_pauli_representation.pkl', 'rb') as f:\n",
    "    lih_pauli_coefficients, lih_pauli_strings = pickle.load(f)\n",
    "    \n",
    "sorted_pauli_observables = np.array(lih_pauli_strings)[np.argsort(np.abs(lih_pauli_coefficients))[::-1]]\n",
    "modmd_observables = [SparsePauliOp(p).to_matrix(sparse=True) for p in sorted_pauli_observables[75:81]]"
   ]
  },
  {
   "cell_type": "code",
   "execution_count": null,
   "metadata": {},
   "outputs": [],
   "source": [
    "# True/Measured signals\n",
    "measured_signals = {idx:{kstar:[] for kstar in kstar_values} for idx in range(len(modmd_observables))}\n",
    "\n",
    "for idx in range(len(modmd_observables)):\n",
    "\n",
    "    X_elements = generate_X_elements([modmd_observables[idx]],max_d,max_K,reference_state,evolved_reference_states)\n",
    "\n",
    "    for kstar in kstar_values:\n",
    "        \n",
    "        for trial in range(num_trials):\n",
    "\n",
    "            gaussian_noise = np.random.normal(0,epsilon,size=X_elements.shape) + 1j * np.random.normal(0,epsilon,size=X_elements.shape)\n",
    "            noisy_X_elements = X_elements + gaussian_noise\n",
    "            \n",
    "            # Measure to some K*, extrapolate the rest\n",
    "            K = int(np.round(kstar/(1+1/kd_ratio)))\n",
    "            d = int(K/kd_ratio)\n",
    "\n",
    "            k_range = range(K+d+1,K+d+1+num_predicted_steps)\n",
    "            measured_signals[idx][kstar].append(noisy_X_elements[k_range])"
   ]
  },
  {
   "cell_type": "code",
   "execution_count": null,
   "metadata": {},
   "outputs": [],
   "source": [
    "# MODMD Results\n",
    "X_elements = generate_X_elements(modmd_observables,max_d,max_K,reference_state,evolved_reference_states)\n",
    "\n",
    "predicted_signals_modmd = {kstar:[] for kstar in kstar_values}\n",
    "\n",
    "for kstar in kstar_values:\n",
    "    \n",
    "    for trial in range(num_trials):\n",
    "\n",
    "        gaussian_noise = np.random.normal(0,epsilon,size=X_elements.shape) + 1j * np.random.normal(0,epsilon,size=X_elements.shape)\n",
    "        noisy_X_elements = X_elements + gaussian_noise\n",
    "\n",
    "        # Measure to some K*, extrapolate the rest\n",
    "        K = int(np.round(kstar/(1+1/kd_ratio)))\n",
    "        d = int(K/kd_ratio)\n",
    "\n",
    "        k_range = range(K+d+1,K+d+1+num_predicted_steps)\n",
    "\n",
    "        X,Xp = X_matrices(len(modmd_observables),d,K,noisy_X_elements)\n",
    "        A = A_matrix(noise_threshold,X,Xp,False)\n",
    "        last_column = Xp[:,-1]\n",
    "        \n",
    "        pred = []\n",
    "        for predicted_step in range(num_predicted_steps):\n",
    "            # Xp = A@Xp\n",
    "            # pred.append(Xp[-len(modmd_observables):,-1])\n",
    "            last_column = A@last_column\n",
    "            pred.append(last_column[-len(modmd_observables):])\n",
    "\n",
    "        predicted_signals_modmd[kstar].append(pred)"
   ]
  },
  {
   "cell_type": "code",
   "execution_count": null,
   "metadata": {},
   "outputs": [],
   "source": [
    "# Results processing\n",
    "average_measured_signals = {}\n",
    "average_predicted_signals_odmd = {}\n",
    "for idx in range(len(modmd_observables)):\n",
    "    for kstar in kstar_values:\n",
    "        average_measured_signals[(idx,kstar)] = np.average(measured_signals[idx][kstar],0)\n",
    "\n",
    "average_predicted_signals_modmd = {kstar:np.average(predicted_signals_modmd[kstar],0) for kstar in kstar_values}"
   ]
  },
  {
   "cell_type": "code",
   "execution_count": null,
   "metadata": {},
   "outputs": [],
   "source": [
    "colors = ['#fcc5c0','#f768a1','#7a0177', '#240046']\n",
    "amplitude_type = 'Re'\n",
    "idx = 5\n",
    "\n",
    "fig, ax = plt.subplots(len(kstar_values),1,figsize=(15,7),layout='constrained')\n",
    "for i, kstar in enumerate(kstar_values):\n",
    "\n",
    "    if amplitude_type == 'Re':\n",
    "        ax[i].plot(range(1,num_predicted_steps+1),average_measured_signals[(idx,kstar)].real, label = 'True Signal' if i == 0 else None, color = colors[1])\n",
    "        ax[i].plot(range(1,num_predicted_steps+1), average_predicted_signals_modmd[kstar][:,idx].real, '--', \n",
    "                   label = f'MODMD Predicted Signal' if i == 0 else None, color = colors[-1])\n",
    "    \n",
    "    elif amplitude_type == 'Im':\n",
    "        ax[i].plot(range(1,num_predicted_steps+1),average_measured_signals[(idx,kstar)].imag, label = 'True Signal' if i == 0 else None, color = colors[1])\n",
    "        ax[i].plot(range(1,num_predicted_steps+1), average_predicted_signals_modmd[kstar][:,idx].imag, '--', \n",
    "                   label = f'MODMD Predicted Signal' if i == 0 else None, color = colors[-1])\n",
    "\n",
    "    ax[i].set_ylabel(f'k*={kstar}', rotation = -90, labelpad = 15)\n",
    "    ax[i].yaxis.set_label_position(\"right\")\n",
    "    ax[i].set_ylim(-.25,.25)\n",
    "\n",
    "matplotlib.rcParams.update({'font.size': 14})\n",
    "fig.supxlabel('$k - k^*$')\n",
    "fig.supylabel(rf'{amplitude_type}[$\\langle\\phi_0|O_i|\\phi_0(k\\Delta t)\\rangle$]')\n",
    "ax[0].legend( loc='upper right')\n",
    "plt.savefig('Figures/LiH_Dynamics_Prediction.pdf', bbox_inches = 'tight')"
   ]
  }
 ],
 "metadata": {
  "kernelspec": {
   "display_name": "modmd_env",
   "language": "python",
   "name": "python3"
  },
  "language_info": {
   "codemirror_mode": {
    "name": "ipython",
    "version": 3
   },
   "file_extension": ".py",
   "mimetype": "text/x-python",
   "name": "python",
   "nbconvert_exporter": "python",
   "pygments_lexer": "ipython3",
   "version": "3.12.5"
  }
 },
 "nbformat": 4,
 "nbformat_minor": 2
}
