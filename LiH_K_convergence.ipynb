{
 "cells": [
  {
   "cell_type": "code",
   "execution_count": null,
   "metadata": {},
   "outputs": [],
   "source": [
    "# Imports\n",
    "from src import *\n",
    "import scipy.sparse.linalg as spsl\n",
    "import pickle\n",
    "import matplotlib.pyplot as plt\n",
    "import matplotlib"
   ]
  },
  {
   "cell_type": "code",
   "execution_count": null,
   "metadata": {},
   "outputs": [],
   "source": [
    "# Algorithm Parameters\n",
    "num_qubits = 10\n",
    "max_energy_level = 4\n",
    "kd_ratio = 2.5\n",
    "noise_threshold = 1e-2\n",
    "epsilon = 1e-3\n",
    "K_values = list(range(0,300,1))\n",
    "delta_t = 0.33\n",
    "num_modmd_observables = 6\n",
    "num_trials = 20"
   ]
  },
  {
   "cell_type": "code",
   "execution_count": null,
   "metadata": {},
   "outputs": [],
   "source": [
    "# Load Hamiltonian, get true eigenergies\n",
    "with open('Data/Hamiltonians/LiH_equilibrium_hamiltonian.pkl', 'rb') as f:\n",
    "    sparse_lih_hamiltonian = pickle.load(f)\n",
    "eigenvalues = np.sort(spsl.eigsh(sparse_lih_hamiltonian,k=20,which = 'SA')[0])\n",
    "true_eigenenergies = eigenvalues[[0,3,6,11,17]]"
   ]
  },
  {
   "cell_type": "code",
   "execution_count": null,
   "metadata": {},
   "outputs": [],
   "source": [
    "# Construct reference state\n",
    "reference_state = bitstring_superposition_state(num_qubits, ['0000100001', '0000000011', '0001000001','0010100000'])\n",
    "\n",
    "# Get evolved reference states\n",
    "max_K = K_values[-1]\n",
    "max_d = int(max_K/kd_ratio)\n",
    "time_evolution_operator = -1j*sparse_lih_hamiltonian*delta_t\n",
    "evolved_reference_states = spsl.expm_multiply(time_evolution_operator,reference_state,start=0,stop=max_d+max_K+1,num = max_d+max_K+2)"
   ]
  },
  {
   "cell_type": "code",
   "execution_count": null,
   "metadata": {},
   "outputs": [],
   "source": [
    "# Get MODMD observables\n",
    "with open('Data/Hamiltonians/LiH_pauli_representation.pkl', 'rb') as f:\n",
    "    lih_pauli_coefficients, lih_pauli_strings = pickle.load(f)\n",
    "\n",
    "sorted_pauli_observables = np.array(lih_pauli_strings)[np.argsort(np.abs(lih_pauli_coefficients))[::-1]]\n",
    "modmd_observables = [SparsePauliOp(p).to_matrix(sparse=True) for p in sorted_pauli_observables[75:81]]"
   ]
  },
  {
   "cell_type": "code",
   "execution_count": null,
   "metadata": {},
   "outputs": [],
   "source": [
    "# ODMD Results\n",
    "odmd_observables = [SparsePauliOp('I' * num_qubits).to_matrix(sparse=True)]\n",
    "odmd_results = []\n",
    "\n",
    "X_elements = generate_X_elements(odmd_observables,max_d,max_K,reference_state,evolved_reference_states)\n",
    "\n",
    "for trial in range(num_trials):\n",
    "\n",
    "    print(f'Trial {trial+1}')\n",
    "    \n",
    "    gaussian_noise = np.random.normal(0,epsilon,size=X_elements.shape) + 1j * np.random.normal(0,epsilon,size=X_elements.shape)\n",
    "    noisy_X_elements = X_elements + gaussian_noise\n",
    "\n",
    "    odmd_results.append(varying_K_results(len(odmd_observables),noise_threshold,noisy_X_elements,delta_t,K_values,kd_ratio,max_energy_level))"
   ]
  },
  {
   "cell_type": "code",
   "execution_count": null,
   "metadata": {},
   "outputs": [],
   "source": [
    "# MODMD Results\n",
    "modmd_results = []\n",
    "\n",
    "X_elements = generate_X_elements(modmd_observables,max_d,max_K,reference_state,evolved_reference_states)\n",
    "\n",
    "for trial in range(num_trials):\n",
    "    print(f'Trial {trial+1}')\n",
    "    \n",
    "    gaussian_noise = np.random.normal(0,epsilon,size=X_elements.shape) + 1j * np.random.normal(0,epsilon,size=X_elements.shape)\n",
    "    noisy_X_elements = X_elements + gaussian_noise\n",
    "\n",
    "    modmd_results.append(varying_K_results(len(modmd_observables),noise_threshold,noisy_X_elements,delta_t,K_values,kd_ratio,max_energy_level))"
   ]
  },
  {
   "cell_type": "code",
   "execution_count": null,
   "metadata": {},
   "outputs": [],
   "source": [
    "# Compute errors\n",
    "absolute_odmd_errors = np.array([np.abs(odmd_results[i] - true_eigenenergies) for i in range(num_trials)])\n",
    "absolute_modmd_errors = np.array([np.abs(modmd_results[i] - true_eigenenergies) for i in range(num_trials)])"
   ]
  },
  {
   "cell_type": "code",
   "execution_count": null,
   "metadata": {},
   "outputs": [],
   "source": [
    "# Plotting\n",
    "energy_levels = [0,1,2,3]\n",
    "algorithm = 'MODMD'\n",
    "colors = ['#fcc5c0','#f768a1','#7a0177', '#240046']\n",
    "labels = [r'$|\\delta E_0|$',r'$|\\delta E_1|$',r'$|\\delta E_2|$',r'$|\\delta E_3|$']\n",
    "\n",
    "for i, energy_level in enumerate(energy_levels):\n",
    "\n",
    "    if algorithm == 'ODMD':\n",
    "        odmd_average = np.average(absolute_odmd_errors,0)[:,energy_level]\n",
    "        odmd_std = np.std(absolute_odmd_errors,0)[:,energy_level]\n",
    "        plt.semilogy(K_values, odmd_average, '--',color = colors[i],label = labels[i])\n",
    "        plt.fill_between(K_values,odmd_average,odmd_average + odmd_std,color = colors[i],alpha = .3)\n",
    "        \n",
    "    elif algorithm == 'MODMD':\n",
    "        modmd_average = np.average(absolute_modmd_errors,0)[:,energy_level]\n",
    "        modmd_std = np.std(absolute_modmd_errors,0)[:,energy_level]\n",
    "        plt.semilogy(K_values,modmd_average,color = colors[i],label = labels[i])\n",
    "        plt.fill_between(K_values,modmd_average,modmd_average + modmd_std,color = colors[i],alpha = .3)\n",
    "\n",
    "plt.axhline(epsilon, color = '#95ab9b', linestyle = '--', label = r'$\\epsilon_\\text{noise}$')\n",
    "matplotlib.rcParams.update({'font.size': 14})\n",
    "plt.xlabel(r'K ($\\propto \\text{Simulation Time})$')\n",
    "plt.ylabel(r'Absolute Error')\n",
    "plt.legend(fontsize=14)"
   ]
  }
 ],
 "metadata": {
  "kernelspec": {
   "display_name": "modmd_env",
   "language": "python",
   "name": "python3"
  },
  "language_info": {
   "codemirror_mode": {
    "name": "ipython",
    "version": 3
   },
   "file_extension": ".py",
   "mimetype": "text/x-python",
   "name": "python",
   "nbconvert_exporter": "python",
   "pygments_lexer": "ipython3",
   "version": "3.12.5"
  }
 },
 "nbformat": 4,
 "nbformat_minor": 2
}
